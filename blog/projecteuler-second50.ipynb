{
 "cells": [
  {
   "cell_type": "markdown",
   "metadata": {},
   "source": [
    "---\n",
    "title: \"Solutions to Project Euler's second 50 problems\"\n",
    "date: 2017-10-12\n",
    "categories: [algorithm, project euler, python, numba]\n",
    "aliases: [/projecteuler-second50/]\n",
    "---"
   ]
  },
  {
   "cell_type": "markdown",
   "metadata": {},
   "source": [
    "These are codes to solve the [second 50 problems](https://projecteuler.net/archives;page=2) in [Project Euler](http://projecteuler.net/). These *python* codes will give solutions in **less than 1 second**. This is achieved by using the excellent **numba** [package](http://numba.pydata.org/)."
   ]
  },
  {
   "cell_type": "markdown",
   "metadata": {
    "heading_collapsed": true
   },
   "source": [
    "### Problem 51"
   ]
  },
  {
   "cell_type": "code",
   "execution_count": 1,
   "metadata": {
    "ExecuteTime": {
     "end_time": "2017-10-11T17:59:09.375532Z",
     "start_time": "2017-10-11T17:59:09.351414Z"
    },
    "collapsed": true
   },
   "outputs": [],
   "source": [
    "def is_prime(n):\n",
    "    if n < 5:\n",
    "        return n == 2 or n == 3\n",
    "    elif n % 2 == 0 or n % 3 == 0:\n",
    "        return False\n",
    "    for i in range(5, int(n**0.5)+1, 6):\n",
    "        if n % i == 0 or n % (i+2) == 0:\n",
    "            return False\n",
    "    return True"
   ]
  },
  {
   "cell_type": "code",
   "execution_count": 2,
   "metadata": {
    "ExecuteTime": {
     "end_time": "2017-10-11T17:59:09.520165Z",
     "start_time": "2017-10-11T17:59:09.380125Z"
    }
   },
   "outputs": [
    {
     "name": "stdout",
     "output_type": "stream",
     "text": [
      "121313\n",
      "CPU times: user 40 ms, sys: 0 ns, total: 40 ms\n",
      "Wall time: 40.9 ms\n"
     ]
    }
   ],
   "source": [
    "%%time\n",
    "def problem51(max_digits=6):\n",
    "    position_list = [[i, j, k] for i in range(6) for j in range(i+1, 6)\n",
    "                     for k in range(j+1, 6)]\n",
    "    for origin in range(10**(max_digits-3)):\n",
    "        for position in position_list:\n",
    "            start_digit = 0 if position[0] == 0 else 1\n",
    "            fail_count = start_digit\n",
    "            answer = []\n",
    "            for digit in range(start_digit, 10):\n",
    "                origin_str = \"{:0{}d}\".format(origin, max_digits-3)\n",
    "                expanded_digits = [str(digit)] * 6\n",
    "                expanded_digits[position[0]] = origin_str[0]\n",
    "                expanded_digits[position[1]] = origin_str[1]\n",
    "                expanded_digits[position[2]] = origin_str[2]\n",
    "                generated_number = int(\"\".join(expanded_digits))\n",
    "                if is_prime(generated_number) == False:\n",
    "                    fail_count += 1\n",
    "                    if fail_count == 3:\n",
    "                        break\n",
    "                else:\n",
    "                    answer.append(generated_number)\n",
    "            if len(answer) == 8:\n",
    "                return answer[0]\n",
    "\n",
    "print(problem51())"
   ]
  },
  {
   "cell_type": "markdown",
   "metadata": {
    "heading_collapsed": true
   },
   "source": [
    "### Problem 52"
   ]
  },
  {
   "cell_type": "code",
   "execution_count": 3,
   "metadata": {
    "ExecuteTime": {
     "end_time": "2017-10-11T17:59:09.734220Z",
     "start_time": "2017-10-11T17:59:09.521284Z"
    }
   },
   "outputs": [
    {
     "name": "stdout",
     "output_type": "stream",
     "text": [
      "142857\n",
      "CPU times: user 208 ms, sys: 0 ns, total: 208 ms\n",
      "Wall time: 205 ms\n"
     ]
    }
   ],
   "source": [
    "%%time\n",
    "def problem52(limit=10**7):\n",
    "    for i in range(1, limit):\n",
    "        sorted_i = sorted(str(i))\n",
    "        if sorted_i == sorted(str(2*i)):\n",
    "            if sorted_i == sorted(str(3*i)):\n",
    "                if sorted_i == sorted(str(4*i)):\n",
    "                    if sorted_i == sorted(str(5*i)):\n",
    "                        if sorted_i == sorted(str(6*i)):\n",
    "                            return i\n",
    "\n",
    "print(problem52())"
   ]
  },
  {
   "cell_type": "markdown",
   "metadata": {
    "heading_collapsed": true
   },
   "source": [
    "### Problem 53"
   ]
  },
  {
   "cell_type": "markdown",
   "metadata": {
    "hidden": false
   },
   "source": [
    "<!-- TEASER_END -->"
   ]
  },
  {
   "cell_type": "code",
   "execution_count": 4,
   "metadata": {
    "ExecuteTime": {
     "end_time": "2017-10-11T17:59:09.737200Z",
     "start_time": "2017-10-11T17:59:09.735419Z"
    },
    "collapsed": true
   },
   "outputs": [],
   "source": [
    "from math import factorial"
   ]
  },
  {
   "cell_type": "code",
   "execution_count": 5,
   "metadata": {
    "ExecuteTime": {
     "end_time": "2017-10-11T17:59:09.802110Z",
     "start_time": "2017-10-11T17:59:09.738137Z"
    }
   },
   "outputs": [
    {
     "name": "stdout",
     "output_type": "stream",
     "text": [
      "4075\n",
      "CPU times: user 12 ms, sys: 0 ns, total: 12 ms\n",
      "Wall time: 9.28 ms\n"
     ]
    }
   ],
   "source": [
    "%%time\n",
    "def problem53():    \n",
    "    count = 0\n",
    "    for n in range(23, 101):\n",
    "        for r in range(1, n):\n",
    "            if factorial(n) // (factorial(r) * factorial(n-r)) > 10**6:\n",
    "                count += 1\n",
    "    return count\n",
    "\n",
    "print(problem53())"
   ]
  },
  {
   "cell_type": "markdown",
   "metadata": {
    "heading_collapsed": true
   },
   "source": [
    "### Problem 54"
   ]
  },
  {
   "cell_type": "code",
   "execution_count": 6,
   "metadata": {
    "ExecuteTime": {
     "end_time": "2017-10-11T17:59:11.664582Z",
     "start_time": "2017-10-11T17:59:09.803528Z"
    },
    "collapsed": true
   },
   "outputs": [],
   "source": [
    "from urllib.request import urlopen\n",
    "\n",
    "url = 'https://projecteuler.net/project/resources/p054_poker.txt'\n",
    "with urlopen(url) as response:\n",
    "    DATA = response.read().decode()\n",
    "\n",
    "def get_rank_value(hand):\n",
    "    CARD_TO_VALUE = dict(zip('23456789TJQKA', range(13)))\n",
    "    RANK_LIST = ['Royal Flush', 'Straight Flush', 'Four of a Kind',\n",
    "                 'Full House', 'Flush', 'Straight', 'Three of a Kind',\n",
    "                 'Two Pairs', 'One Pair', 'High Card']\n",
    "    RANK = dict(zip(RANK_LIST, range(9,-1,-1)))\n",
    "    \n",
    "    cards = [CARD_TO_VALUE[card[0]] for card in hand]\n",
    "    is_flush = len(set([card[1] for card in hand])) == 1\n",
    "    card_freqs = sorted([(cards.count(card), card) for card in set(cards)])\n",
    "    n_cards = len(card_freqs)\n",
    "    value = sum([card_freqs[i][1]*10**(2*i) for i in range(n_cards)])\n",
    "    if card_freqs[-1][0] == 4:\n",
    "        return (RANK['Four of a Kind'], value)\n",
    "    elif card_freqs[-1][0] == 3:\n",
    "        if n_cards == 2:\n",
    "            return (RANK['Full House'], value)\n",
    "        else:\n",
    "            return (RANK['Three of a Kind'], value)\n",
    "    elif card_freqs[-1][0] == 2:\n",
    "        if n_cards == 3:\n",
    "            return (RANK['Two Pairs'], value)\n",
    "        else:\n",
    "            return (RANK['One Pair'], value)\n",
    "    elif (((card_freqs[4][1] - card_freqs[0][1]) == 4) or\n",
    "          ((card_freqs[4][1] == CARD_TO_VALUE['A'] and\n",
    "            card_freqs[0][1] == CARD_TO_VALUE['2'] and\n",
    "            card_freqs[3][1] == CARD_TO_VALUE['5']))):\n",
    "        if is_flush:\n",
    "            if card_freqs[0][1] == CARD_TO_VALUE['A']:\n",
    "                return (RANK['Royal Flush'], value)\n",
    "            else:\n",
    "                return (RANK['Straight Flush'], value)\n",
    "        else:\n",
    "            return (RANK['Straight'], value)\n",
    "    elif is_flush:\n",
    "        return (RANK['Flush'], value)\n",
    "    else:\n",
    "        return (RANK['High Card'], value)"
   ]
  },
  {
   "cell_type": "code",
   "execution_count": 7,
   "metadata": {
    "ExecuteTime": {
     "end_time": "2017-10-11T17:59:11.696958Z",
     "start_time": "2017-10-11T17:59:11.669445Z"
    },
    "scrolled": false
   },
   "outputs": [
    {
     "name": "stdout",
     "output_type": "stream",
     "text": [
      "376\n",
      "CPU times: user 20 ms, sys: 0 ns, total: 20 ms\n",
      "Wall time: 17.8 ms\n"
     ]
    }
   ],
   "source": [
    "%%time\n",
    "def problem54():\n",
    "    lines = DATA.strip().split('\\n')\n",
    "    count = 0\n",
    "    for line in lines:\n",
    "        cards = line.split()\n",
    "        player_1 = cards[:5]\n",
    "        player_2 = cards[5:]\n",
    "        if get_rank_value(player_1) > get_rank_value(player_2):\n",
    "            count += 1\n",
    "    return count\n",
    "\n",
    "print(problem54())"
   ]
  },
  {
   "cell_type": "markdown",
   "metadata": {
    "heading_collapsed": true
   },
   "source": [
    "### Problem 55"
   ]
  },
  {
   "cell_type": "code",
   "execution_count": 8,
   "metadata": {
    "ExecuteTime": {
     "end_time": "2017-10-11T17:59:11.845279Z",
     "start_time": "2017-10-11T17:59:11.697851Z"
    }
   },
   "outputs": [
    {
     "name": "stdout",
     "output_type": "stream",
     "text": [
      "249\n",
      "CPU times: user 40 ms, sys: 0 ns, total: 40 ms\n",
      "Wall time: 40.7 ms\n"
     ]
    }
   ],
   "source": [
    "%%time\n",
    "def problem55(limit=10000):\n",
    "    c = 0\n",
    "    for i in range(limit):\n",
    "        n = i\n",
    "        n_t = int(str(n)[::-1])\n",
    "        is_Lychrel = True\n",
    "        for j in range(49):\n",
    "            n = n + n_t\n",
    "            n_t = int(str(n)[::-1])\n",
    "            if n == n_t:\n",
    "                is_Lychrel = False\n",
    "                break\n",
    "        if is_Lychrel:\n",
    "            c += 1\n",
    "    return c\n",
    "    \n",
    "print(problem55())"
   ]
  },
  {
   "cell_type": "markdown",
   "metadata": {
    "heading_collapsed": true
   },
   "source": [
    "### Problem 56"
   ]
  },
  {
   "cell_type": "code",
   "execution_count": 9,
   "metadata": {
    "ExecuteTime": {
     "end_time": "2017-10-11T17:59:11.982400Z",
     "start_time": "2017-10-11T17:59:11.846540Z"
    }
   },
   "outputs": [
    {
     "name": "stdout",
     "output_type": "stream",
     "text": [
      "972\n",
      "CPU times: user 128 ms, sys: 0 ns, total: 128 ms\n",
      "Wall time: 130 ms\n"
     ]
    }
   ],
   "source": [
    "%%time\n",
    "def problem56():\n",
    "    max_digital_sum = 0\n",
    "    for a in range(100):\n",
    "        for b in range(100):\n",
    "            d_sum = sum([int(x) for x in str(a**b)])\n",
    "            if d_sum > max_digital_sum:\n",
    "                max_digital_sum = d_sum\n",
    "    return max_digital_sum\n",
    "\n",
    "print(problem56())"
   ]
  },
  {
   "cell_type": "markdown",
   "metadata": {
    "heading_collapsed": true
   },
   "source": [
    "### Problem 57"
   ]
  },
  {
   "cell_type": "code",
   "execution_count": 10,
   "metadata": {
    "ExecuteTime": {
     "end_time": "2017-10-11T17:59:11.989444Z",
     "start_time": "2017-10-11T17:59:11.983523Z"
    },
    "collapsed": true
   },
   "outputs": [],
   "source": [
    "from fractions import Fraction"
   ]
  },
  {
   "cell_type": "code",
   "execution_count": 11,
   "metadata": {
    "ExecuteTime": {
     "end_time": "2017-10-11T17:59:12.084662Z",
     "start_time": "2017-10-11T17:59:11.990549Z"
    }
   },
   "outputs": [
    {
     "name": "stdout",
     "output_type": "stream",
     "text": [
      "153\n",
      "CPU times: user 40 ms, sys: 0 ns, total: 40 ms\n",
      "Wall time: 40.9 ms\n"
     ]
    }
   ],
   "source": [
    "%%time\n",
    "def problem57():    \n",
    "    x = 2 + Fraction(1, 2)\n",
    "    count = 0\n",
    "    for i in range(1000):\n",
    "        y = x - 1\n",
    "        if len(str(y.numerator)) > len(str(y.denominator)):\n",
    "            count += 1\n",
    "        x = 2 + Fraction(1, x)\n",
    "    return count\n",
    "\n",
    "print(problem57())"
   ]
  },
  {
   "cell_type": "markdown",
   "metadata": {
    "heading_collapsed": true
   },
   "source": [
    "### Problem 58"
   ]
  },
  {
   "cell_type": "code",
   "execution_count": 12,
   "metadata": {
    "ExecuteTime": {
     "end_time": "2017-10-11T17:59:12.228660Z",
     "start_time": "2017-10-11T17:59:12.085978Z"
    },
    "collapsed": true
   },
   "outputs": [],
   "source": [
    "from numba import jit\n",
    "\n",
    "@jit\n",
    "def is_prime(n):\n",
    "    if n < 5:\n",
    "        return n == 2 or n == 3\n",
    "    elif n % 2 == 0 or n % 3 == 0:\n",
    "        return False\n",
    "    for i in range(5, int(n**0.5)+1, 6):\n",
    "        if n % i == 0 or n % (i+2) == 0:\n",
    "            return False\n",
    "    return True"
   ]
  },
  {
   "cell_type": "code",
   "execution_count": 13,
   "metadata": {
    "ExecuteTime": {
     "end_time": "2017-10-11T17:59:12.459574Z",
     "start_time": "2017-10-11T17:59:12.229816Z"
    }
   },
   "outputs": [
    {
     "name": "stdout",
     "output_type": "stream",
     "text": [
      "26241\n",
      "CPU times: user 216 ms, sys: 4 ms, total: 220 ms\n",
      "Wall time: 220 ms\n"
     ]
    }
   ],
   "source": [
    "%%time\n",
    "@jit\n",
    "def problem58():\n",
    "    x = 1\n",
    "    gap = 0\n",
    "    n_prime_x10 = 0\n",
    "    n_x = 1\n",
    "    while True:\n",
    "        gap = gap + 2\n",
    "        for i in range(3):\n",
    "            x = x + gap\n",
    "            if is_prime(x):\n",
    "                n_prime_x10 += 10\n",
    "        x = x + gap\n",
    "        n_x += 4\n",
    "        if n_prime_x10 < n_x:\n",
    "            return int(x**0.5)\n",
    "\n",
    "print(problem58())"
   ]
  },
  {
   "cell_type": "markdown",
   "metadata": {
    "collapsed": true,
    "heading_collapsed": true
   },
   "source": [
    "### Problem 59"
   ]
  },
  {
   "cell_type": "code",
   "execution_count": 14,
   "metadata": {
    "ExecuteTime": {
     "end_time": "2017-10-11T17:59:13.738287Z",
     "start_time": "2017-10-11T17:59:12.460798Z"
    },
    "collapsed": true
   },
   "outputs": [],
   "source": [
    "from urllib.request import urlopen\n",
    "    \n",
    "url = 'https://projecteuler.net/project/resources/p059_cipher.txt'\n",
    "with urlopen(url) as response:\n",
    "    DATA = response.read().decode()"
   ]
  },
  {
   "cell_type": "code",
   "execution_count": 15,
   "metadata": {
    "ExecuteTime": {
     "end_time": "2017-10-11T17:59:14.089721Z",
     "start_time": "2017-10-11T17:59:13.743049Z"
    },
    "scrolled": false
   },
   "outputs": [
    {
     "name": "stdout",
     "output_type": "stream",
     "text": [
      "107359\n",
      "CPU times: user 332 ms, sys: 0 ns, total: 332 ms\n",
      "Wall time: 333 ms\n"
     ]
    }
   ],
   "source": [
    "%%time\n",
    "def problem59():\n",
    "    cipher = list(map(lambda x: int(x), DATA.rstrip().split(',')))\n",
    "    length = len(cipher)\n",
    "    ord_a = ord('a')\n",
    "    for i in range(ord_a, ord_a+26):\n",
    "        for j in range(ord_a, ord_a+26):\n",
    "            for k in range(ord_a, ord_a+26):\n",
    "                key = ([i, j, k] * (length//3+1))[:length]\n",
    "                message = bytes([x^y for x, y in zip(cipher, key)])\n",
    "                if b'that' in message and b'have' in message:\n",
    "                    return sum([ord(x) for x in message.decode()])\n",
    "\n",
    "print(problem59())"
   ]
  },
  {
   "cell_type": "markdown",
   "metadata": {
    "heading_collapsed": true
   },
   "source": [
    "### Problem 60"
   ]
  },
  {
   "cell_type": "code",
   "execution_count": 16,
   "metadata": {
    "ExecuteTime": {
     "end_time": "2017-10-11T17:59:14.516890Z",
     "start_time": "2017-10-11T17:59:14.091079Z"
    },
    "collapsed": true
   },
   "outputs": [],
   "source": [
    "import numpy as np\n",
    "from numba import jit, int8, int64\n",
    "\n",
    "@jit(int8[:](int64))\n",
    "def create_sieve_of_halfprimes(n):\n",
    "    sieve = np.ones(n//2, dtype=np.int8)\n",
    "    for i in range(3, int(n**0.5)+1, 2):\n",
    "        if sieve[i//2]:\n",
    "            sieve[i*i//2::i] = 0\n",
    "    return sieve\n",
    "\n",
    "@jit(int8[:,:](int8[:], int64[:]))\n",
    "def create_check_matrix(sieve, primes):\n",
    "    check_matrix = np.zeros((len(primes), len(primes)), dtype=np.int8)\n",
    "    for i1 in range(len(primes)):\n",
    "        for i2 in range(i1+1, len(primes)):\n",
    "            half_prime12 = (primes[i1]\n",
    "                            * 10**(int(np.log10(primes[i2]))+1)\n",
    "                            + primes[i2]) // 2\n",
    "            if sieve[half_prime12]:\n",
    "                half_prime21 = (primes[i2]\n",
    "                                * 10**(int(np.log10(primes[i1]))+1)\n",
    "                                + primes[i1]) // 2\n",
    "                if sieve[half_prime21]:\n",
    "                    check_matrix[i1, i2] = 1\n",
    "    return check_matrix\n",
    "\n",
    "@jit(int64(int64[:], int8[:,:]))\n",
    "def find_answer(primes, check_matrix):\n",
    "    for a1 in range(len(primes)):\n",
    "        for a2 in range(a1+1, len(primes)):\n",
    "            if check_matrix[a1, a2]:\n",
    "                for a3 in range(a2+1, len(primes)):\n",
    "                    if check_matrix[a2, a3] and check_matrix[a1, a3]:\n",
    "                        for a4 in range(a3+1, len(primes)):\n",
    "                            if (check_matrix[a3, a4] and check_matrix[a2, a4]\n",
    "                                    and check_matrix[a1, a4]):\n",
    "                                for a5 in range(a4+1, len(primes)):\n",
    "                                    if (check_matrix[a4, a5]\n",
    "                                            and check_matrix[a3, a5]\n",
    "                                            and check_matrix[a2, a5]\n",
    "                                            and check_matrix[a1, a5]):\n",
    "                                        return (primes[a1] + primes[a2]\n",
    "                                                + primes[a3] + primes[a4]\n",
    "                                                + primes[a5])\n",
    "    return 0"
   ]
  },
  {
   "cell_type": "code",
   "execution_count": 17,
   "metadata": {
    "ExecuteTime": {
     "end_time": "2017-10-11T17:59:14.821852Z",
     "start_time": "2017-10-11T17:59:14.518084Z"
    }
   },
   "outputs": [
    {
     "name": "stdout",
     "output_type": "stream",
     "text": [
      "26033\n",
      "CPU times: user 296 ms, sys: 4 ms, total: 300 ms\n",
      "Wall time: 298 ms\n"
     ]
    }
   ],
   "source": [
    "%%time\n",
    "def problem60(limit=10**4):\n",
    "    sieve = create_sieve_of_halfprimes(limit**2)\n",
    "    primes = 2*np.nonzero(sieve[:limit//2])[0][1:] + 1\n",
    "    check_matrix = create_check_matrix(sieve, primes)\n",
    "    return find_answer(primes, check_matrix)\n",
    "\n",
    "print(problem60())"
   ]
  },
  {
   "cell_type": "markdown",
   "metadata": {
    "heading_collapsed": true
   },
   "source": [
    "### Problem 61"
   ]
  },
  {
   "cell_type": "code",
   "execution_count": 18,
   "metadata": {
    "ExecuteTime": {
     "end_time": "2017-10-11T17:59:14.890671Z",
     "start_time": "2017-10-11T17:59:14.822873Z"
    },
    "collapsed": true
   },
   "outputs": [],
   "source": [
    "def create_polygonal_numbers(k):\n",
    "    l = []\n",
    "    p = n = 1\n",
    "    while p < 10000:\n",
    "        if p >= 1000:\n",
    "            l.append(p)\n",
    "        n = n + 1\n",
    "        p = n * ((k-2)*n - k + 4) // 2\n",
    "    return l\n",
    "\n",
    "def check(a, b, c, d, e, f, polygonal_dict):\n",
    "    ab = a*100 + b\n",
    "    bc = b*100 + c\n",
    "    cd = c*100 + d\n",
    "    de = d*100 + e\n",
    "    ef = e*100 + f\n",
    "    fa = f*100 + a\n",
    "    for i1 in polygonal_dict[ab]:\n",
    "        for i2 in polygonal_dict[bc]:\n",
    "            for i3 in polygonal_dict[cd]:\n",
    "                for i4 in polygonal_dict[de]:\n",
    "                    for i5 in polygonal_dict[ef]:\n",
    "                        for i6 in polygonal_dict[fa]:\n",
    "                            if len(set([i1,i2,i3,i4,i5,i6])) == 6:\n",
    "                                return True\n",
    "    return False"
   ]
  },
  {
   "cell_type": "code",
   "execution_count": 19,
   "metadata": {
    "ExecuteTime": {
     "end_time": "2017-10-11T17:59:15.010724Z",
     "start_time": "2017-10-11T17:59:14.892265Z"
    },
    "run_control": {
     "marked": false
    }
   },
   "outputs": [
    {
     "name": "stdout",
     "output_type": "stream",
     "text": [
      "28684\n",
      "CPU times: user 4 ms, sys: 0 ns, total: 4 ms\n",
      "Wall time: 741 µs\n"
     ]
    }
   ],
   "source": [
    "%%time\n",
    "def problem61():\n",
    "    polygonal_dict = dict()\n",
    "    for k in range(3, 9):\n",
    "        for n in create_polygonal_numbers(k):\n",
    "            if n not in polygonal_dict:\n",
    "                polygonal_dict[n] = [k]\n",
    "            else:\n",
    "                polygonal_dict[n].append(k)\n",
    "                \n",
    "    cyclic = dict()\n",
    "    for n in polygonal_dict:\n",
    "        a, b = (n//100, n%100)\n",
    "        if b < 10:\n",
    "            continue\n",
    "        if a not in cyclic:\n",
    "            cyclic[a] = [b]\n",
    "        else:\n",
    "            cyclic[a].append(b)\n",
    "\n",
    "    for a in cyclic:\n",
    "        for b in cyclic[a]:\n",
    "            if b not in cyclic:\n",
    "                continue\n",
    "            for c in cyclic[b]:\n",
    "                if c not in cyclic:\n",
    "                    continue\n",
    "                for d in cyclic[c]:\n",
    "                    if d not in cyclic:\n",
    "                        continue\n",
    "                    for e in cyclic[d]:\n",
    "                        if e not in cyclic:\n",
    "                            continue\n",
    "                        for f in cyclic[e]:\n",
    "                            if f not in cyclic:\n",
    "                                continue\n",
    "                            if a not in cyclic[f]:\n",
    "                                continue\n",
    "                            if check(a, b, c, d, e, f, polygonal_dict):\n",
    "                                return sum([a,b,c,d,e,f]) * 101\n",
    "\n",
    "print(problem61())"
   ]
  },
  {
   "cell_type": "markdown",
   "metadata": {
    "heading_collapsed": true
   },
   "source": [
    "### Problem 62"
   ]
  },
  {
   "cell_type": "code",
   "execution_count": 20,
   "metadata": {
    "ExecuteTime": {
     "end_time": "2017-10-11T17:59:15.050941Z",
     "start_time": "2017-10-11T17:59:15.011892Z"
    },
    "collapsed": true
   },
   "outputs": [],
   "source": [
    "from collections import Counter"
   ]
  },
  {
   "cell_type": "code",
   "execution_count": 21,
   "metadata": {
    "ExecuteTime": {
     "end_time": "2017-10-11T17:59:15.161237Z",
     "start_time": "2017-10-11T17:59:15.055178Z"
    }
   },
   "outputs": [
    {
     "name": "stdout",
     "output_type": "stream",
     "text": [
      "127035954683\n",
      "CPU times: user 28 ms, sys: 0 ns, total: 28 ms\n",
      "Wall time: 28.3 ms\n"
     ]
    }
   ],
   "source": [
    "%%time\n",
    "def problem62():    \n",
    "    k = 1\n",
    "    while True:\n",
    "        cubes = []\n",
    "        for n in range(int(int('1'*k)**(1/3))+1, int(int('9'*k)**(1/3))+1):\n",
    "            cubes.append(n**3)\n",
    "        arranged_cubes = [''.join(sorted(str(x))) for x in cubes]    \n",
    "        counter = Counter(arranged_cubes)\n",
    "        for c in list(counter):\n",
    "            if counter[c] == 5:\n",
    "                return cubes[arranged_cubes.index(c)]\n",
    "        k += 1\n",
    "\n",
    "print(problem62())"
   ]
  },
  {
   "cell_type": "markdown",
   "metadata": {
    "heading_collapsed": true
   },
   "source": [
    "### Problem 63"
   ]
  },
  {
   "cell_type": "code",
   "execution_count": 22,
   "metadata": {
    "ExecuteTime": {
     "end_time": "2017-10-11T17:59:15.168549Z",
     "start_time": "2017-10-11T17:59:15.162302Z"
    }
   },
   "outputs": [
    {
     "name": "stdout",
     "output_type": "stream",
     "text": [
      "49\n",
      "CPU times: user 0 ns, sys: 0 ns, total: 0 ns\n",
      "Wall time: 141 µs\n"
     ]
    }
   ],
   "source": [
    "%%time\n",
    "def problem63():\n",
    "    n = 1\n",
    "    c = 1\n",
    "    while len(str(9**n)) >= n:\n",
    "        for i in range(2, 10):\n",
    "            if i**n >= 10**(n-1):\n",
    "                c += 1\n",
    "        n += 1\n",
    "    return c\n",
    "\n",
    "print(problem63())"
   ]
  },
  {
   "cell_type": "markdown",
   "metadata": {
    "heading_collapsed": true
   },
   "source": [
    "### Problem 64"
   ]
  },
  {
   "cell_type": "code",
   "execution_count": 23,
   "metadata": {
    "ExecuteTime": {
     "end_time": "2017-10-11T17:59:15.218352Z",
     "start_time": "2017-10-11T17:59:15.169620Z"
    },
    "collapsed": true
   },
   "outputs": [],
   "source": [
    "def count_period(n):\n",
    "    if n == int(n**0.5)**2:\n",
    "        return 0\n",
    "    b = 0\n",
    "    c = 1\n",
    "    l = []\n",
    "    while True:\n",
    "        if (b,c) in l:\n",
    "            return len(l) - l.index((b,c))\n",
    "        l.append((b,c))\n",
    "        b = int((n**0.5 + b) / c) * c - b\n",
    "        c = (n - b**2) // c"
   ]
  },
  {
   "cell_type": "code",
   "execution_count": 24,
   "metadata": {
    "ExecuteTime": {
     "end_time": "2017-10-11T17:59:15.702554Z",
     "start_time": "2017-10-11T17:59:15.219512Z"
    }
   },
   "outputs": [
    {
     "name": "stdout",
     "output_type": "stream",
     "text": [
      "1322\n",
      "CPU times: user 420 ms, sys: 0 ns, total: 420 ms\n",
      "Wall time: 419 ms\n"
     ]
    }
   ],
   "source": [
    "%%time\n",
    "def problem64(limit=10**4):\n",
    "    c = 0\n",
    "    for i in range(2, limit+1):\n",
    "        if count_period(i) % 2 == 1:\n",
    "            c += 1\n",
    "    return c\n",
    "\n",
    "print(problem64())"
   ]
  },
  {
   "cell_type": "markdown",
   "metadata": {
    "heading_collapsed": true
   },
   "source": [
    "### Problem 65"
   ]
  },
  {
   "cell_type": "code",
   "execution_count": 25,
   "metadata": {
    "ExecuteTime": {
     "end_time": "2017-10-11T17:59:15.705391Z",
     "start_time": "2017-10-11T17:59:15.703717Z"
    },
    "collapsed": true
   },
   "outputs": [],
   "source": [
    "from fractions import Fraction"
   ]
  },
  {
   "cell_type": "code",
   "execution_count": 26,
   "metadata": {
    "ExecuteTime": {
     "end_time": "2017-10-11T17:59:15.761481Z",
     "start_time": "2017-10-11T17:59:15.706554Z"
    }
   },
   "outputs": [
    {
     "name": "stdout",
     "output_type": "stream",
     "text": [
      "272\n",
      "CPU times: user 0 ns, sys: 0 ns, total: 0 ns\n",
      "Wall time: 1.02 ms\n"
     ]
    }
   ],
   "source": [
    "%%time\n",
    "def problem65():\n",
    "    fraction_list = [2]\n",
    "    for i in range(1, 34):\n",
    "        fraction_list += [1, 2*i, 1]\n",
    "    rational_approx = Fraction(fraction_list[-1])\n",
    "    for a in fraction_list[-2::-1]:\n",
    "        rational_approx = a + 1 / rational_approx\n",
    "    return sum([int(x) for x in str(rational_approx.numerator)])\n",
    "\n",
    "print(problem65())"
   ]
  },
  {
   "cell_type": "markdown",
   "metadata": {
    "heading_collapsed": true
   },
   "source": [
    "### Problem 66"
   ]
  },
  {
   "cell_type": "code",
   "execution_count": 27,
   "metadata": {
    "ExecuteTime": {
     "end_time": "2017-10-11T17:59:15.812900Z",
     "start_time": "2017-10-11T17:59:15.762880Z"
    },
    "collapsed": true
   },
   "outputs": [],
   "source": [
    "from fractions import Fraction\n",
    "\n",
    "def diophantine_solution(D):\n",
    "    if D == int(D**0.5)**2:\n",
    "        return 1\n",
    "    b = 0\n",
    "    c = 1\n",
    "    a = a0 = int(D**0.5)\n",
    "    fraction_list = []\n",
    "    while True:\n",
    "        a = int((D**0.5 + b) / c)\n",
    "        if a == 2*a0:\n",
    "            break\n",
    "        fraction_list.append(a)\n",
    "        b = a*c - b\n",
    "        c = (D - b**2) // c\n",
    "    rational_approx = Fraction(fraction_list[-1])\n",
    "    for a in fraction_list[-2::-1]:\n",
    "        rational_approx = a + 1 / rational_approx\n",
    "    if rational_approx.numerator**2 - D*rational_approx.denominator**2 == 1:\n",
    "        return rational_approx.numerator\n",
    "    rational_approx = rational_approx + a0\n",
    "    for a in fraction_list[::-1]:\n",
    "        rational_approx = a + 1 / rational_approx\n",
    "    return rational_approx.numerator"
   ]
  },
  {
   "cell_type": "code",
   "execution_count": 28,
   "metadata": {
    "ExecuteTime": {
     "end_time": "2017-10-11T17:59:15.974544Z",
     "start_time": "2017-10-11T17:59:15.814043Z"
    }
   },
   "outputs": [
    {
     "name": "stdout",
     "output_type": "stream",
     "text": [
      "661\n",
      "CPU times: user 96 ms, sys: 0 ns, total: 96 ms\n",
      "Wall time: 93.3 ms\n"
     ]
    }
   ],
   "source": [
    "%%time\n",
    "def problem66(limit=1000):\n",
    "    x_max = 3\n",
    "    d_max = 2\n",
    "    for i in range(3, limit+1):\n",
    "        x = diophantine_solution(i)\n",
    "        if x > x_max:\n",
    "            x_max = x\n",
    "            d_max = i\n",
    "    return d_max\n",
    "\n",
    "print(problem66())"
   ]
  },
  {
   "cell_type": "markdown",
   "metadata": {
    "heading_collapsed": true
   },
   "source": [
    "### Problem 67"
   ]
  },
  {
   "cell_type": "code",
   "execution_count": 29,
   "metadata": {
    "ExecuteTime": {
     "end_time": "2017-10-11T17:59:17.248555Z",
     "start_time": "2017-10-11T17:59:15.975734Z"
    },
    "collapsed": true
   },
   "outputs": [],
   "source": [
    "from urllib.request import urlopen\n",
    "    \n",
    "url = 'https://projecteuler.net/project/resources/p067_triangle.txt'\n",
    "with urlopen(url) as response:\n",
    "    DATA = response.read().decode()"
   ]
  },
  {
   "cell_type": "code",
   "execution_count": 30,
   "metadata": {
    "ExecuteTime": {
     "end_time": "2017-10-11T17:59:17.268669Z",
     "start_time": "2017-10-11T17:59:17.253089Z"
    }
   },
   "outputs": [
    {
     "name": "stdout",
     "output_type": "stream",
     "text": [
      "7273\n",
      "CPU times: user 0 ns, sys: 0 ns, total: 0 ns\n",
      "Wall time: 2.3 ms\n"
     ]
    }
   ],
   "source": [
    "%%time\n",
    "def problem67():\n",
    "    triangle = [[int(y) for y in x.split()] for x in DATA.rstrip().split('\\n')]\n",
    "    route = [59]\n",
    "    for i, row in enumerate(triangle[1:]):\n",
    "        current = [row[0] + route[0]] \\\n",
    "            + [x + max(route[j], route[j+1]) for j, x in enumerate(row[1:-1])] \\\n",
    "            + [row[-1] + route[-1]]\n",
    "        route = current\n",
    "    return max(route)\n",
    "\n",
    "print(problem67())"
   ]
  },
  {
   "cell_type": "markdown",
   "metadata": {
    "heading_collapsed": true
   },
   "source": [
    "### Problem 68"
   ]
  },
  {
   "cell_type": "code",
   "execution_count": 31,
   "metadata": {
    "ExecuteTime": {
     "end_time": "2017-10-11T17:59:17.387071Z",
     "start_time": "2017-10-11T17:59:17.269697Z"
    }
   },
   "outputs": [
    {
     "name": "stdout",
     "output_type": "stream",
     "text": [
      "6531031914842725\n",
      "CPU times: user 0 ns, sys: 4 ms, total: 4 ms\n",
      "Wall time: 1.34 ms\n"
     ]
    }
   ],
   "source": [
    "%%time\n",
    "def problem68():\n",
    "    solutions = []\n",
    "    a = 10\n",
    "    for b in range(1, 10):\n",
    "        for c in range(1, 10):\n",
    "            if b == c:\n",
    "                continue\n",
    "            for d in range(1, 10):\n",
    "                if d in [b, c]:\n",
    "                    continue\n",
    "                e = a + b - d\n",
    "                if e < 1 or e > 9 or e in [b, c, d]:\n",
    "                    continue\n",
    "                for f in range(1, 10):\n",
    "                    if f in [b, c, d, e]:\n",
    "                        continue\n",
    "                    g = c + d - f\n",
    "                    if g < 1 or g > 9 or g in [b, c, d, e, f]:\n",
    "                        continue\n",
    "                    for h in range(1, 10):\n",
    "                        if h in [b, c, d, e, f, g]:\n",
    "                            continue\n",
    "                        i = e + f - h\n",
    "                        j = g + h - b\n",
    "                        if i < 1 or j < 1 or i > 9 or j > 9:\n",
    "                            continue\n",
    "                        if len(set([a,b,c,d,e,f,g,h,i,j])) == 10:\n",
    "                            solutions.append([a,b,c,d,c,e,f,e,g,h,g,i,j,i,b])\n",
    "    ordered_solutions = []\n",
    "    for solution in solutions:\n",
    "        i_min = solution.index(min(solution[0], solution[3],\n",
    "                                   solution[6], solution[9], solution[12]))\n",
    "        ordered_solution = solution[i_min:] + solution[:i_min]\n",
    "        ordered_solution_to_int = int(''.join(\n",
    "            [str(x) for x in ordered_solution]))\n",
    "        ordered_solutions.append(ordered_solution_to_int)\n",
    "    return max(ordered_solutions)\n",
    "\n",
    "print(problem68())"
   ]
  },
  {
   "cell_type": "markdown",
   "metadata": {
    "heading_collapsed": true
   },
   "source": [
    "### Problem 69"
   ]
  },
  {
   "cell_type": "code",
   "execution_count": 32,
   "metadata": {
    "ExecuteTime": {
     "end_time": "2017-10-11T17:59:17.413526Z",
     "start_time": "2017-10-11T17:59:17.387984Z"
    },
    "collapsed": true
   },
   "outputs": [],
   "source": [
    "import numpy as np"
   ]
  },
  {
   "cell_type": "code",
   "execution_count": 33,
   "metadata": {
    "ExecuteTime": {
     "end_time": "2017-10-11T17:59:17.505145Z",
     "start_time": "2017-10-11T17:59:17.414601Z"
    }
   },
   "outputs": [
    {
     "name": "stdout",
     "output_type": "stream",
     "text": [
      "510510\n",
      "CPU times: user 28 ms, sys: 0 ns, total: 28 ms\n",
      "Wall time: 27.5 ms\n"
     ]
    }
   ],
   "source": [
    "%%time\n",
    "def problem69(limit=10**6):    \n",
    "    sieve = np.ones(limit+1)\n",
    "    n_per_phi_n_list = np.ones(limit+1)\n",
    "    for i in range(2, int(limit**0.5)+1):\n",
    "        if sieve[i] == 1:\n",
    "            sieve[i::i] = 0\n",
    "            n_per_phi_n_list[i::i] *= i / (i-1)\n",
    "    return np.argmax(n_per_phi_n_list)\n",
    "\n",
    "print(problem69())"
   ]
  },
  {
   "cell_type": "markdown",
   "metadata": {
    "heading_collapsed": true
   },
   "source": [
    "### Problem 70"
   ]
  },
  {
   "cell_type": "code",
   "execution_count": 34,
   "metadata": {
    "ExecuteTime": {
     "end_time": "2017-10-11T17:59:17.529311Z",
     "start_time": "2017-10-11T17:59:17.506741Z"
    },
    "collapsed": true
   },
   "outputs": [],
   "source": [
    "import numpy as np\n",
    "from numba import jit\n",
    "\n",
    "@jit\n",
    "def create_sieve(n):\n",
    "    sieve = np.ones(n, dtype=np.int8)\n",
    "    sieve[0] = sieve[1] = 0\n",
    "    sieve[4::2] = 0\n",
    "    for i in range(3, int(n**0.5)+1, 2):\n",
    "        if sieve[i]:\n",
    "            sieve[i*i::i] = 0\n",
    "    return sieve"
   ]
  },
  {
   "cell_type": "code",
   "execution_count": 35,
   "metadata": {
    "ExecuteTime": {
     "end_time": "2017-10-11T17:59:17.944478Z",
     "start_time": "2017-10-11T17:59:17.530374Z"
    },
    "run_control": {
     "marked": false
    },
    "scrolled": false
   },
   "outputs": [
    {
     "name": "stdout",
     "output_type": "stream",
     "text": [
      "8319823\n",
      "CPU times: user 280 ms, sys: 0 ns, total: 280 ms\n",
      "Wall time: 279 ms\n"
     ]
    }
   ],
   "source": [
    "%%time\n",
    "def problem70(limit=10**7):\n",
    "    sieve = create_sieve(limit)\n",
    "    prime_list = np.nonzero(sieve)[0]\n",
    "    nb_primes = len(prime_list)\n",
    "    n_min = 87109\n",
    "    ratio_min = 87109 / 79180\n",
    "    i_max = np.nonzero((prime_list ** 2) >= 10**7)[0][0]-1\n",
    "    for i in range(i_max, -1, -1):\n",
    "        if prime_list[i] / (prime_list[i]-1) >= ratio_min:\n",
    "            break\n",
    "        for j in range(i+1, nb_primes):\n",
    "            i_times_j = prime_list[i] * prime_list[j]\n",
    "            if i_times_j >= 10**7:\n",
    "                break\n",
    "            phi_i_times_j = (prime_list[i]-1) * (prime_list[j]-1)\n",
    "            ratio = i_times_j / phi_i_times_j\n",
    "            if ratio < ratio_min:\n",
    "                if sorted(str(i_times_j)) == sorted(str(phi_i_times_j)):\n",
    "                    n_min = i_times_j\n",
    "                    ratio_min = ratio\n",
    "    return n_min\n",
    "\n",
    "print(problem70())"
   ]
  },
  {
   "cell_type": "markdown",
   "metadata": {
    "heading_collapsed": true
   },
   "source": [
    "### Problem 71"
   ]
  },
  {
   "cell_type": "code",
   "execution_count": 36,
   "metadata": {
    "ExecuteTime": {
     "end_time": "2017-10-11T17:59:17.947546Z",
     "start_time": "2017-10-11T17:59:17.945710Z"
    },
    "collapsed": true
   },
   "outputs": [],
   "source": [
    "from fractions import Fraction"
   ]
  },
  {
   "cell_type": "code",
   "execution_count": 37,
   "metadata": {
    "ExecuteTime": {
     "end_time": "2017-10-11T17:59:18.212264Z",
     "start_time": "2017-10-11T17:59:17.948553Z"
    }
   },
   "outputs": [
    {
     "name": "stdout",
     "output_type": "stream",
     "text": [
      "428570\n",
      "CPU times: user 220 ms, sys: 0 ns, total: 220 ms\n",
      "Wall time: 219 ms\n"
     ]
    }
   ],
   "source": [
    "%%time\n",
    "def problem71(limit=10**6):\n",
    "    d_min = 5\n",
    "    n_min = 2\n",
    "    for d in range(2, limit+1):\n",
    "        n = 3 * d // 7\n",
    "        if d % 7 == 0:\n",
    "            n = n-1\n",
    "        if n * d_min > d * n_min:\n",
    "            n_min = n\n",
    "            d_min = d\n",
    "    return Fraction(n_min, d_min).numerator\n",
    "\n",
    "print(problem71())"
   ]
  },
  {
   "cell_type": "markdown",
   "metadata": {
    "heading_collapsed": true
   },
   "source": [
    "### Problem 72"
   ]
  },
  {
   "cell_type": "code",
   "execution_count": 38,
   "metadata": {
    "ExecuteTime": {
     "end_time": "2017-10-11T17:59:18.215374Z",
     "start_time": "2017-10-11T17:59:18.213393Z"
    },
    "collapsed": true
   },
   "outputs": [],
   "source": [
    "import numpy as np\n",
    "from numba import jit"
   ]
  },
  {
   "cell_type": "code",
   "execution_count": 39,
   "metadata": {
    "ExecuteTime": {
     "end_time": "2017-10-11T17:59:18.630147Z",
     "start_time": "2017-10-11T17:59:18.216422Z"
    }
   },
   "outputs": [
    {
     "name": "stdout",
     "output_type": "stream",
     "text": [
      "303963552391\n",
      "CPU times: user 360 ms, sys: 0 ns, total: 360 ms\n",
      "Wall time: 359 ms\n"
     ]
    }
   ],
   "source": [
    "%%time\n",
    "@jit\n",
    "def problem72(limit=10**6):\n",
    "    sieve = np.ones(limit+1)\n",
    "    phi_n_list = np.arange(limit+1)\n",
    "    phi_n_list[1] = 0\n",
    "    for i in range(2, limit+1):\n",
    "        if sieve[i] == 1:\n",
    "            sieve[i*i::i] = 0\n",
    "            phi_n_list[i::i] *= (i-1)\n",
    "            phi_n_list[i::i] //= i\n",
    "    return sum(phi_n_list)\n",
    "\n",
    "print(problem72())"
   ]
  },
  {
   "cell_type": "markdown",
   "metadata": {
    "heading_collapsed": true
   },
   "source": [
    "### Problem 73"
   ]
  },
  {
   "cell_type": "code",
   "execution_count": 40,
   "metadata": {
    "ExecuteTime": {
     "end_time": "2017-10-11T17:59:18.638050Z",
     "start_time": "2017-10-11T17:59:18.631568Z"
    },
    "collapsed": true
   },
   "outputs": [],
   "source": [
    "from numba import jit\n",
    "\n",
    "@jit\n",
    "def count_Stern_Brocot(limit, left_n, left_d, right_n, right_d):\n",
    "    mid_n = left_n + right_n\n",
    "    mid_d = left_d + right_d\n",
    "    if mid_d > limit:\n",
    "        return 0\n",
    "    else:\n",
    "        count = 1\n",
    "        count += count_Stern_Brocot(limit, left_n, left_d, mid_n, mid_d)\n",
    "        count += count_Stern_Brocot(limit, mid_n, mid_d, right_n, right_d)\n",
    "        return count"
   ]
  },
  {
   "cell_type": "code",
   "execution_count": 41,
   "metadata": {
    "ExecuteTime": {
     "end_time": "2017-10-11T17:59:18.829178Z",
     "start_time": "2017-10-11T17:59:18.639389Z"
    }
   },
   "outputs": [
    {
     "name": "stdout",
     "output_type": "stream",
     "text": [
      "7295372\n",
      "CPU times: user 124 ms, sys: 0 ns, total: 124 ms\n",
      "Wall time: 124 ms\n"
     ]
    }
   ],
   "source": [
    "%%time\n",
    "def problem73(limit=12000):\n",
    "    return count_Stern_Brocot(12000, 1, 3, 1, 2)\n",
    "\n",
    "print(problem73())"
   ]
  },
  {
   "cell_type": "markdown",
   "metadata": {
    "heading_collapsed": true
   },
   "source": [
    "### Problem 74"
   ]
  },
  {
   "cell_type": "code",
   "execution_count": 42,
   "metadata": {
    "ExecuteTime": {
     "end_time": "2017-10-11T17:59:18.850833Z",
     "start_time": "2017-10-11T17:59:18.830168Z"
    },
    "collapsed": true
   },
   "outputs": [],
   "source": [
    "from math import factorial\n",
    "from itertools import permutations\n",
    "\n",
    "def count_permuation(n):\n",
    "    p = set(permutations(str(n)))\n",
    "    if str(n)[0] == '1':\n",
    "        new_str = '0' + str(n)[1:]\n",
    "        p = p.union(set(permutations(new_str)))\n",
    "    if str(n)[:2] == '11':\n",
    "        new_str = '00' + str(n)[2:]\n",
    "        p = p.union(set(permutations(new_str)))\n",
    "    if str(n)[:3] == '111':\n",
    "        new_str = '000' + str(n)[3:]\n",
    "        p = p.union(set(permutations(new_str)))\n",
    "    if str(n)[:4] == '1111':\n",
    "        new_str = '0000' + str(n)[4:]\n",
    "        p = p.union(set(permutations(new_str)))\n",
    "    if str(n)[:5] == '11111':\n",
    "        p = p.add(str(n)[5:]+'00000')\n",
    "    c = 0\n",
    "    for e in p:\n",
    "        if e[0] != '0':\n",
    "            c += 1\n",
    "    return c"
   ]
  },
  {
   "cell_type": "code",
   "execution_count": 43,
   "metadata": {
    "ExecuteTime": {
     "end_time": "2017-10-11T17:59:18.975379Z",
     "start_time": "2017-10-11T17:59:18.851993Z"
    }
   },
   "outputs": [
    {
     "name": "stdout",
     "output_type": "stream",
     "text": [
      "402\n",
      "CPU times: user 20 ms, sys: 0 ns, total: 20 ms\n",
      "Wall time: 18.7 ms\n"
     ]
    }
   ],
   "source": [
    "%%time\n",
    "def problem74():\n",
    "    fac = [factorial(x) for x in range(10)]\n",
    "    a = [0] * 2200000\n",
    "    answer_list = []\n",
    "    for i1 in range(10):\n",
    "        for i2 in range(i1, 10):\n",
    "            for i3 in range(i2, 10):\n",
    "                for i4 in range(i3, 10):\n",
    "                    for i5 in range(i4, 10):\n",
    "                        for i6 in range(i5, 10):\n",
    "                            i = i1*10**5+i2*10**4+i3*1000+i4*100+i5*10+i6\n",
    "                            chain = []\n",
    "                            j = i\n",
    "                            while (a[j] == 0) and (j not in chain):\n",
    "                                chain.append(j)\n",
    "                                s = 0\n",
    "                                jr = j\n",
    "                                while jr != 0:\n",
    "                                    s += fac[jr % 10]\n",
    "                                    jr //= 10\n",
    "                                j = s\n",
    "                            if j in chain:\n",
    "                                for t in range(len(chain)):\n",
    "                                    a[chain[t]] = len(chain) - t\n",
    "                                    if chain[t] == j:\n",
    "                                        break\n",
    "                                for t1 in range(t+1, len(chain)):\n",
    "                                    a[chain[t1]] = len(chain) - t\n",
    "                            else:\n",
    "                                for t, k in enumerate(chain):\n",
    "                                    a[k] = len(chain) - t + a[j]\n",
    "                            if a[i] == 60:\n",
    "                                answer_list.append(i)\n",
    "    return sum([count_permuation(answer) for answer in answer_list])\n",
    "\n",
    "print(problem74())"
   ]
  },
  {
   "cell_type": "markdown",
   "metadata": {
    "heading_collapsed": true
   },
   "source": [
    "### Problem 75"
   ]
  },
  {
   "cell_type": "code",
   "execution_count": 44,
   "metadata": {
    "ExecuteTime": {
     "end_time": "2017-10-11T17:59:18.997516Z",
     "start_time": "2017-10-11T17:59:18.976524Z"
    },
    "collapsed": true
   },
   "outputs": [],
   "source": [
    "from numba import jit\n",
    "\n",
    "@jit\n",
    "def gcd(m, n):\n",
    "    if m == 0:\n",
    "        return n\n",
    "    return gcd(n % m, m)"
   ]
  },
  {
   "cell_type": "code",
   "execution_count": 45,
   "metadata": {
    "ExecuteTime": {
     "end_time": "2017-10-11T17:59:19.406850Z",
     "start_time": "2017-10-11T17:59:19.001930Z"
    }
   },
   "outputs": [
    {
     "name": "stdout",
     "output_type": "stream",
     "text": [
      "161667\n"
     ]
    }
   ],
   "source": [
    "%timeit\n",
    "def problem75(limit=1500000):\n",
    "    d = [0] * (limit + 1)\n",
    "    for n in range(1, 1000):\n",
    "        for m in range(n+1, 1000, 2):\n",
    "            if gcd(m, n) != 1:\n",
    "                continue\n",
    "            L = 2 * m * (m + n)\n",
    "            k_max = limit // L\n",
    "            for k in range(1, k_max+1):\n",
    "                d[L*k] += 1\n",
    "    c = 0\n",
    "    for i in range(limit+1):\n",
    "        if d[i] == 1:\n",
    "            c += 1\n",
    "    return c\n",
    "\n",
    "print(problem75())"
   ]
  },
  {
   "cell_type": "markdown",
   "metadata": {
    "heading_collapsed": true
   },
   "source": [
    "### Problem 76"
   ]
  },
  {
   "cell_type": "code",
   "execution_count": 46,
   "metadata": {
    "ExecuteTime": {
     "end_time": "2017-10-11T17:59:19.409821Z",
     "start_time": "2017-10-11T17:59:19.408042Z"
    },
    "collapsed": true
   },
   "outputs": [],
   "source": [
    "import numpy as np"
   ]
  },
  {
   "cell_type": "code",
   "execution_count": 47,
   "metadata": {
    "ExecuteTime": {
     "end_time": "2017-10-11T17:59:19.491063Z",
     "start_time": "2017-10-11T17:59:19.410976Z"
    }
   },
   "outputs": [
    {
     "name": "stdout",
     "output_type": "stream",
     "text": [
      "190569291\n",
      "CPU times: user 24 ms, sys: 0 ns, total: 24 ms\n",
      "Wall time: 21.3 ms\n"
     ]
    }
   ],
   "source": [
    "%%time\n",
    "def problem76():\n",
    "    A = np.zeros((101, 101), dtype=np.int)\n",
    "    for i in range(1, 101):\n",
    "        for j in range(1, i+1):\n",
    "            A[i, j] = 1\n",
    "            for k in range(j, i//2+1):\n",
    "                A[i, j] += A[i-k, k]\n",
    "    return A[100, 1] - 1\n",
    "\n",
    "print(problem76())"
   ]
  },
  {
   "cell_type": "markdown",
   "metadata": {
    "heading_collapsed": true
   },
   "source": [
    "### Problem 77"
   ]
  },
  {
   "cell_type": "code",
   "execution_count": 48,
   "metadata": {
    "ExecuteTime": {
     "end_time": "2017-10-11T17:59:19.537523Z",
     "start_time": "2017-10-11T17:59:19.492445Z"
    },
    "collapsed": true
   },
   "outputs": [],
   "source": [
    "import numpy as np\n",
    "\n",
    "def is_prime(n):\n",
    "    if n < 5:\n",
    "        return n == 2 or n == 3\n",
    "    elif n % 2 == 0 or n % 3 == 0:\n",
    "        return False\n",
    "    for i in range(5, int(n**0.5)+1, 6):\n",
    "        if n % i == 0 or n % (i+2) == 0:\n",
    "            return False\n",
    "    return True"
   ]
  },
  {
   "cell_type": "code",
   "execution_count": 49,
   "metadata": {
    "ExecuteTime": {
     "end_time": "2017-10-11T17:59:19.642434Z",
     "start_time": "2017-10-11T17:59:19.539233Z"
    }
   },
   "outputs": [
    {
     "name": "stdout",
     "output_type": "stream",
     "text": [
      "71\n",
      "CPU times: user 20 ms, sys: 0 ns, total: 20 ms\n",
      "Wall time: 20.5 ms\n"
     ]
    }
   ],
   "source": [
    "%%time\n",
    "def problem77():\n",
    "    A = np.zeros((101, 101), dtype=np.int)\n",
    "    for i in range(1, 101):\n",
    "        for j in range(1, i+1):\n",
    "            if is_prime(i):\n",
    "                A[i, j] = 1\n",
    "            for k in range(j, i//2+1):\n",
    "                if is_prime(k):\n",
    "                    A[i, j] += A[i-k, k]\n",
    "            if A[i, j] > 5000 + is_prime(i):\n",
    "                return i\n",
    "\n",
    "print(problem77())"
   ]
  },
  {
   "cell_type": "markdown",
   "metadata": {
    "heading_collapsed": true
   },
   "source": [
    "### Problem 78"
   ]
  },
  {
   "cell_type": "code",
   "execution_count": 50,
   "metadata": {
    "ExecuteTime": {
     "end_time": "2017-10-11T17:59:19.687292Z",
     "start_time": "2017-10-11T17:59:19.643827Z"
    },
    "collapsed": true
   },
   "outputs": [],
   "source": [
    "from numba import jit"
   ]
  },
  {
   "cell_type": "code",
   "execution_count": 51,
   "metadata": {
    "ExecuteTime": {
     "end_time": "2017-10-11T17:59:19.864998Z",
     "start_time": "2017-10-11T17:59:19.688763Z"
    }
   },
   "outputs": [
    {
     "name": "stdout",
     "output_type": "stream",
     "text": [
      "55374\n",
      "CPU times: user 100 ms, sys: 0 ns, total: 100 ms\n",
      "Wall time: 102 ms\n"
     ]
    }
   ],
   "source": [
    "%%time\n",
    "@jit\n",
    "def problem78(limit=60000):\n",
    "    p = [0] * limit\n",
    "    p[0] = 1\n",
    "    p[1] = 1\n",
    "    for i in range(2, limit):\n",
    "        k = 1\n",
    "        s = 1\n",
    "        g_k = 0\n",
    "        while True:\n",
    "            g_k += 2*k - 1\n",
    "            if g_k > i:\n",
    "                break\n",
    "            p[i] = p[i] + s*p[i-g_k]\n",
    "            g_k += k\n",
    "            if g_k > i:\n",
    "                break\n",
    "            p[i] = p[i] + s*p[i-g_k]\n",
    "            k += 1\n",
    "            s = -s\n",
    "        p[i] = p[i] % 10**6\n",
    "        if p[i] == 0:\n",
    "            return i\n",
    "        \n",
    "print(problem78())"
   ]
  },
  {
   "cell_type": "markdown",
   "metadata": {
    "heading_collapsed": true
   },
   "source": [
    "### Problem 79"
   ]
  },
  {
   "cell_type": "code",
   "execution_count": 52,
   "metadata": {
    "ExecuteTime": {
     "end_time": "2017-10-11T17:59:21.078930Z",
     "start_time": "2017-10-11T17:59:19.866158Z"
    },
    "collapsed": true
   },
   "outputs": [],
   "source": [
    "from urllib.request import urlopen\n",
    "from itertools import permutations, combinations\n",
    "    \n",
    "url = 'https://projecteuler.net/project/resources/p079_keylog.txt'\n",
    "with urlopen(url) as response:\n",
    "    DATA = response.read().decode()"
   ]
  },
  {
   "cell_type": "code",
   "execution_count": 53,
   "metadata": {
    "ExecuteTime": {
     "end_time": "2017-10-11T17:59:21.395582Z",
     "start_time": "2017-10-11T17:59:21.083639Z"
    }
   },
   "outputs": [
    {
     "name": "stdout",
     "output_type": "stream",
     "text": [
      "73162890\n",
      "CPU times: user 300 ms, sys: 0 ns, total: 300 ms\n",
      "Wall time: 300 ms\n"
     ]
    }
   ],
   "source": [
    "%%time\n",
    "def problem79():\n",
    "    for p in permutations(''.join(sorted(list(set(DATA) - {'\\n'})))):\n",
    "        passcode = ''.join(p)\n",
    "        passcode_keys = [''.join(x) for x in combinations(passcode, 3)]\n",
    "        flag = True\n",
    "        for key in DATA.split():\n",
    "            if key not in passcode_keys:\n",
    "                flag = False\n",
    "                break\n",
    "        if flag == True:\n",
    "            return passcode\n",
    "\n",
    "print(problem79())"
   ]
  },
  {
   "cell_type": "markdown",
   "metadata": {
    "heading_collapsed": true
   },
   "source": [
    "### Problem 80"
   ]
  },
  {
   "cell_type": "code",
   "execution_count": 54,
   "metadata": {
    "ExecuteTime": {
     "end_time": "2017-10-11T17:59:21.398445Z",
     "start_time": "2017-10-11T17:59:21.396616Z"
    },
    "collapsed": true
   },
   "outputs": [],
   "source": [
    "from decimal import getcontext, Decimal"
   ]
  },
  {
   "cell_type": "code",
   "execution_count": 55,
   "metadata": {
    "ExecuteTime": {
     "end_time": "2017-10-11T17:59:21.465018Z",
     "start_time": "2017-10-11T17:59:21.399625Z"
    }
   },
   "outputs": [
    {
     "name": "stdout",
     "output_type": "stream",
     "text": [
      "40886\n",
      "CPU times: user 4 ms, sys: 0 ns, total: 4 ms\n",
      "Wall time: 4.47 ms\n"
     ]
    }
   ],
   "source": [
    "%%time\n",
    "def problem80():\n",
    "    getcontext().prec = 102\n",
    "    s = 0\n",
    "    for i in range(1, 101):\n",
    "        if i not in [y**2 for y in range(1, 11)]:\n",
    "            s += sum([int(x) for x in str(Decimal(i).sqrt())[:101]\n",
    "                      if x != '.'])\n",
    "    return s\n",
    "\n",
    "print(problem80())"
   ]
  },
  {
   "cell_type": "markdown",
   "metadata": {
    "heading_collapsed": true
   },
   "source": [
    "### Problem 81"
   ]
  },
  {
   "cell_type": "code",
   "execution_count": 56,
   "metadata": {
    "ExecuteTime": {
     "end_time": "2017-10-11T17:59:23.120472Z",
     "start_time": "2017-10-11T17:59:21.466680Z"
    },
    "collapsed": true
   },
   "outputs": [],
   "source": [
    "from urllib.request import urlopen\n",
    "    \n",
    "url = 'https://projecteuler.net/project/resources/p081_matrix.txt'\n",
    "with urlopen(url) as response:\n",
    "    DATA = response.read().decode()"
   ]
  },
  {
   "cell_type": "code",
   "execution_count": 57,
   "metadata": {
    "ExecuteTime": {
     "end_time": "2017-10-11T17:59:23.145992Z",
     "start_time": "2017-10-11T17:59:23.125165Z"
    }
   },
   "outputs": [
    {
     "name": "stdout",
     "output_type": "stream",
     "text": [
      "427337\n",
      "CPU times: user 4 ms, sys: 0 ns, total: 4 ms\n",
      "Wall time: 3.94 ms\n"
     ]
    }
   ],
   "source": [
    "%%time\n",
    "def problem81():\n",
    "    matrix = [[int(y) for y in x.split(',')] for x in DATA.split()]\n",
    "    path_sum = [[0]*80]*80\n",
    "    for i in range(80):\n",
    "        for j in range(80):\n",
    "            if i == 0 and j == 0:\n",
    "                min_path = 0\n",
    "            elif i == 0:\n",
    "                min_path = path_sum[i][j-1]\n",
    "            elif j == 0:\n",
    "                min_path = path_sum[i-1][j]\n",
    "            else:\n",
    "                min_path = min(path_sum[i][j-1], path_sum[i-1][j])\n",
    "            path_sum[i][j] = matrix[i][j] + min_path\n",
    "    return path_sum[79][79]\n",
    "\n",
    "print(problem81())"
   ]
  },
  {
   "cell_type": "markdown",
   "metadata": {
    "heading_collapsed": true
   },
   "source": [
    "### Problem 82"
   ]
  },
  {
   "cell_type": "code",
   "execution_count": 58,
   "metadata": {
    "ExecuteTime": {
     "end_time": "2017-10-11T17:59:24.801850Z",
     "start_time": "2017-10-11T17:59:23.147135Z"
    },
    "collapsed": true
   },
   "outputs": [],
   "source": [
    "from urllib.request import urlopen\n",
    "import numpy as np\n",
    "    \n",
    "url = 'https://projecteuler.net/project/resources/p082_matrix.txt'\n",
    "with urlopen(url) as response:\n",
    "    DATA = response.read().decode()"
   ]
  },
  {
   "cell_type": "code",
   "execution_count": 59,
   "metadata": {
    "ExecuteTime": {
     "end_time": "2017-10-11T17:59:25.787083Z",
     "start_time": "2017-10-11T17:59:24.806787Z"
    }
   },
   "outputs": [
    {
     "name": "stdout",
     "output_type": "stream",
     "text": [
      "260324\n",
      "CPU times: user 956 ms, sys: 0 ns, total: 956 ms\n",
      "Wall time: 958 ms\n"
     ]
    }
   ],
   "source": [
    "%%time\n",
    "def problem82():\n",
    "    matrix = np.array([[int(y) for y in x.split(',')] for x in DATA.split()], \n",
    "                      dtype='uint16')\n",
    "    path_sum = np.zeros((80, 80), dtype='uint32')\n",
    "    min_path = np.zeros((80, 80), dtype='uint32')\n",
    "\n",
    "    for j in range(80):\n",
    "        for i in range(80):\n",
    "            if j == 0:\n",
    "                min_path = [0]\n",
    "            else:\n",
    "                min_path = [path_sum[i, j-1]]\n",
    "                for k in range(80):\n",
    "                    if k < i:\n",
    "                        min_path.append(matrix[k:i, j].sum()\n",
    "                                        + path_sum[k, j-1])\n",
    "                    if k > i:\n",
    "                        min_path.append(matrix[i+1:k+1, j].sum()\n",
    "                                        + path_sum[k, j-1])\n",
    "            path_sum[i, j] = matrix[i, j] + min(min_path)\n",
    "    return path_sum[:,79].min()\n",
    "\n",
    "print(problem82())"
   ]
  },
  {
   "cell_type": "markdown",
   "metadata": {
    "heading_collapsed": true
   },
   "source": [
    "### Problem 83"
   ]
  },
  {
   "cell_type": "code",
   "execution_count": 60,
   "metadata": {
    "ExecuteTime": {
     "end_time": "2017-10-11T17:59:27.386417Z",
     "start_time": "2017-10-11T17:59:25.788203Z"
    },
    "collapsed": true
   },
   "outputs": [],
   "source": [
    "from urllib.request import urlopen\n",
    "import numpy as np\n",
    "    \n",
    "url = 'https://projecteuler.net/project/resources/p083_matrix.txt'\n",
    "with urlopen(url) as response:\n",
    "    DATA = response.read().decode()\n",
    "    \n",
    "def update(i, j, path_sum, matrix, inf):\n",
    "    min_around = [inf]\n",
    "    if i > 0:\n",
    "        min_around.append(path_sum[i-1, j])\n",
    "    if i < 79:\n",
    "        min_around.append(path_sum[i+1, j])\n",
    "    if j > 0:\n",
    "        min_around.append(path_sum[i, j-1])\n",
    "    if j < 79:\n",
    "        min_around.append(path_sum[i, j+1])\n",
    "    path_sum[i, j] = min(min_around) + matrix[i, j]"
   ]
  },
  {
   "cell_type": "code",
   "execution_count": 61,
   "metadata": {
    "ExecuteTime": {
     "end_time": "2017-10-11T17:59:27.786007Z",
     "start_time": "2017-10-11T17:59:27.391233Z"
    },
    "scrolled": false
   },
   "outputs": [
    {
     "name": "stdout",
     "output_type": "stream",
     "text": [
      "425185\n",
      "CPU times: user 360 ms, sys: 0 ns, total: 360 ms\n",
      "Wall time: 359 ms\n"
     ]
    }
   ],
   "source": [
    "%%time\n",
    "def problem83():\n",
    "    matrix = np.array([[int(y) for y in x.split(',')] for x in DATA.split()], \n",
    "                      dtype='uint16')\n",
    "\n",
    "    inf = np.iinfo(np.uint32).max // 2\n",
    "    path_sum = np.zeros((80, 80), dtype='uint32')\n",
    "    path_sum[:] = inf\n",
    "    path_sum[0, 0] = matrix[0, 0]\n",
    "\n",
    "    visited = np.zeros((80, 80), dtype='bool')\n",
    "    visited[0, 0] = True\n",
    "    update(0, 1, path_sum, matrix, inf)\n",
    "    update(1, 0, path_sum, matrix, inf)\n",
    "    \n",
    "    while not visited[79, 79]:\n",
    "        i, j = np.unravel_index(np.ma.argmin(\n",
    "            np.ma.MaskedArray(path_sum, visited)), (80, 80))\n",
    "        visited[i, j] = True\n",
    "        if i > 0 and not visited[i-1, j]:\n",
    "            update(i-1, j, path_sum, matrix, inf)\n",
    "        if i < 79 and not visited[i+1, j]:\n",
    "            update(i+1, j, path_sum, matrix, inf)\n",
    "        if j > 0 and not visited[i, j-1]:\n",
    "            update(i, j-1, path_sum, matrix, inf)\n",
    "        if j < 79 and not visited[i, j+1]:\n",
    "            update(i, j+1, path_sum, matrix, inf)\n",
    "    return path_sum[79, 79]\n",
    "\n",
    "print(problem83())"
   ]
  },
  {
   "cell_type": "markdown",
   "metadata": {
    "heading_collapsed": true
   },
   "source": [
    "### Problem 84"
   ]
  },
  {
   "cell_type": "code",
   "execution_count": 62,
   "metadata": {
    "ExecuteTime": {
     "end_time": "2017-10-11T17:59:27.788646Z",
     "start_time": "2017-10-11T17:59:27.786977Z"
    }
   },
   "outputs": [],
   "source": [
    "from random import randint"
   ]
  },
  {
   "cell_type": "code",
   "execution_count": 63,
   "metadata": {
    "ExecuteTime": {
     "end_time": "2017-10-11T17:59:28.139857Z",
     "start_time": "2017-10-11T17:59:27.789711Z"
    }
   },
   "outputs": [
    {
     "name": "stdout",
     "output_type": "stream",
     "text": [
      "101516\n",
      "CPU times: user 232 ms, sys: 0 ns, total: 232 ms\n",
      "Wall time: 234 ms\n"
     ]
    }
   ],
   "source": [
    "%%time\n",
    "def problem84():\n",
    "    jail = 10\n",
    "    g2j = 30\n",
    "    cc = [2, 17, 33]\n",
    "    ch = [7, 22, 36]\n",
    "    double = 0\n",
    "    table = [0] * 40\n",
    "    i = 0\n",
    "    for j in range(100000):\n",
    "        dice1 = randint(1, 4)\n",
    "        dice2 = randint(1, 4)\n",
    "        if dice1 == dice2:\n",
    "            double += 1\n",
    "        else:\n",
    "            double = 0\n",
    "        if double == 3:\n",
    "            i = jail\n",
    "        else:\n",
    "            i = (i + dice1 + dice2) % 40\n",
    "        if i in cc:\n",
    "            cc_open = randint(1, 16)\n",
    "            if cc_open == 1:\n",
    "                i = 0\n",
    "            elif cc_open == 2:\n",
    "                i = jail\n",
    "        if i in ch:\n",
    "            ch_open = randint(1, 16)\n",
    "            if ch_open == 1:\n",
    "                i = 0\n",
    "            elif ch_open == 2:\n",
    "                i = jail\n",
    "            elif ch_open == 3:\n",
    "                i = 11\n",
    "            elif ch_open == 4:\n",
    "                i = 24\n",
    "            elif ch_open == 5:\n",
    "                i = 39\n",
    "            elif ch_open == 6:\n",
    "                i = 5\n",
    "            elif ch_open in [7, 8]:\n",
    "                if i == ch[0]:\n",
    "                    i = 15\n",
    "                elif i == ch[1]:\n",
    "                    i = 25\n",
    "                else:\n",
    "                    i = 5\n",
    "            elif ch_open == 9:\n",
    "                if i == ch[1]:\n",
    "                    i = 28\n",
    "                else:\n",
    "                    i = 12\n",
    "            elif ch_open == 10:\n",
    "                i = (i-3)%40\n",
    "        if i == g2j:\n",
    "            i = jail\n",
    "        table[i] += 1\n",
    "    a, b, c = sorted(table, reverse=True)[:3]\n",
    "    return '{:02d}{:02d}{:02d}'.format(table.index(a),\n",
    "                                       table.index(b), table.index(c))\n",
    "\n",
    "print(problem84())"
   ]
  },
  {
   "cell_type": "markdown",
   "metadata": {
    "heading_collapsed": true
   },
   "source": [
    "### Problem 85"
   ]
  },
  {
   "cell_type": "code",
   "execution_count": 64,
   "metadata": {
    "ExecuteTime": {
     "end_time": "2017-10-11T17:59:28.156320Z",
     "start_time": "2017-10-11T17:59:28.141014Z"
    }
   },
   "outputs": [
    {
     "name": "stdout",
     "output_type": "stream",
     "text": [
      "2772\n",
      "CPU times: user 4 ms, sys: 0 ns, total: 4 ms\n",
      "Wall time: 6.8 ms\n"
     ]
    }
   ],
   "source": [
    "%%time\n",
    "def problem85():\n",
    "    areas = []\n",
    "    rectangles = []\n",
    "\n",
    "    for n in range(1, 3000):\n",
    "        for m in range(n, 3000//n):\n",
    "            areas.append(n * m)\n",
    "            rectangles.append(n * m * (n+1) * (m+1) // 4)\n",
    "\n",
    "    ds = [int(abs(r - 2e6)) for r in rectangles]\n",
    "    return areas[ds.index(min(ds))]\n",
    "\n",
    "print(problem85())"
   ]
  },
  {
   "cell_type": "markdown",
   "metadata": {
    "heading_collapsed": true
   },
   "source": [
    "### Problem 86"
   ]
  },
  {
   "cell_type": "code",
   "execution_count": 65,
   "metadata": {
    "ExecuteTime": {
     "end_time": "2017-10-11T17:59:28.212062Z",
     "start_time": "2017-10-11T17:59:28.157454Z"
    },
    "collapsed": true
   },
   "outputs": [],
   "source": [
    "from numba import jit"
   ]
  },
  {
   "cell_type": "code",
   "execution_count": 66,
   "metadata": {
    "ExecuteTime": {
     "end_time": "2017-10-11T17:59:28.405305Z",
     "start_time": "2017-10-11T17:59:28.213696Z"
    }
   },
   "outputs": [
    {
     "name": "stdout",
     "output_type": "stream",
     "text": [
      "1818\n",
      "CPU times: user 84 ms, sys: 0 ns, total: 84 ms\n",
      "Wall time: 83.7 ms\n"
     ]
    }
   ],
   "source": [
    "%%time\n",
    "@jit\n",
    "def problem86():\n",
    "    n_sol = 0\n",
    "    M = 0\n",
    "    while n_sol <= 10**6:\n",
    "        M += 1\n",
    "        for a_plus_b in range(2, 2*M+1):\n",
    "            min_square = M**2 + a_plus_b**2\n",
    "            if min_square == (int(min_square**0.5)**2):\n",
    "                b_min = max(1, a_plus_b-M)\n",
    "                b_max = a_plus_b//2\n",
    "                n_sol += (b_max - b_min + 1)\n",
    "    return M\n",
    "\n",
    "print(problem86())"
   ]
  },
  {
   "cell_type": "markdown",
   "metadata": {
    "heading_collapsed": true
   },
   "source": [
    "### Problem 87"
   ]
  },
  {
   "cell_type": "code",
   "execution_count": 67,
   "metadata": {
    "ExecuteTime": {
     "end_time": "2017-10-11T17:59:28.408996Z",
     "start_time": "2017-10-11T17:59:28.406848Z"
    },
    "collapsed": true
   },
   "outputs": [],
   "source": [
    "import numpy as np\n",
    "from numba import jit"
   ]
  },
  {
   "cell_type": "code",
   "execution_count": 68,
   "metadata": {
    "ExecuteTime": {
     "end_time": "2017-10-11T17:59:29.020546Z",
     "start_time": "2017-10-11T17:59:28.410295Z"
    }
   },
   "outputs": [
    {
     "name": "stdout",
     "output_type": "stream",
     "text": [
      "1097343\n",
      "CPU times: user 512 ms, sys: 4 ms, total: 516 ms\n",
      "Wall time: 514 ms\n"
     ]
    }
   ],
   "source": [
    "%%time\n",
    "@jit\n",
    "def problem87():\n",
    "    limit = 5*10**7-1\n",
    "    x_max = int(limit**(1/2))\n",
    "    y_max = int(limit**(1/3))\n",
    "    z_max = int(limit**(1/4))\n",
    "    sieve = np.ones(x_max+1, dtype=np.bool)\n",
    "    sieve[0] = sieve[1] = 0\n",
    "    for i in range(2, int(limit**0.5)+1):\n",
    "        if sieve[i] == 1:\n",
    "            sieve[2*i::i] = 0\n",
    "    x_list = np.nonzero(sieve[:x_max+1])[0]\n",
    "    y_list = np.nonzero(sieve[:y_max+1])[0]\n",
    "    z_list = np.nonzero(sieve[:z_max+1])[0]\n",
    "    A = np.zeros(limit+1, dtype=np.bool)\n",
    "    for x in x_list:\n",
    "        for y in y_list:\n",
    "            for z in z_list:\n",
    "                n = x**2 + y**3 + z**4\n",
    "                if n <= limit:\n",
    "                    A[n] = 1\n",
    "    return A.sum()\n",
    "\n",
    "print(problem87())"
   ]
  },
  {
   "cell_type": "markdown",
   "metadata": {
    "heading_collapsed": true
   },
   "source": [
    "### Problem 88"
   ]
  },
  {
   "cell_type": "code",
   "execution_count": 69,
   "metadata": {
    "ExecuteTime": {
     "end_time": "2017-10-11T17:59:29.325646Z",
     "start_time": "2017-10-11T17:59:29.022044Z"
    }
   },
   "outputs": [
    {
     "name": "stdout",
     "output_type": "stream",
     "text": [
      "7587457\n",
      "CPU times: user 232 ms, sys: 0 ns, total: 232 ms\n",
      "Wall time: 235 ms\n"
     ]
    }
   ],
   "source": [
    "%%time\n",
    "def problem88():\n",
    "    k_max = 12000\n",
    "    product_max = 2 * k_max\n",
    "    a_max = k_max // 4\n",
    "    m_max = k_max\n",
    "    prod = 1\n",
    "    mps = [2*k_max] * (k_max+1)\n",
    "    mps[0] = mps[1] = 0\n",
    "    for a in range(1, a_max//prod+1):\n",
    "        prod = a\n",
    "        for b in range(a, a_max//prod+1):\n",
    "            prod = a*b\n",
    "            for c in range(b, a_max//prod+1):\n",
    "                prod = a*b*c\n",
    "                for d in range(c, a_max//prod+1):\n",
    "                    prod = a*b*c*d\n",
    "                    for e in range(d, a_max//prod+1):\n",
    "                        prod = a*b*c*d*e\n",
    "                        for f in range(e, a_max//prod+1):\n",
    "                            prod = a*b*c*d*e*f\n",
    "                            for g in range(f, a_max//prod+1):\n",
    "                                prod = a*b*c*d*e*f*g\n",
    "                                for h in range(g, a_max//prod+1):\n",
    "                                    prod = a*b*c*d*e*f*g*h\n",
    "                                    for i in range(h, a_max//prod+1):\n",
    "                                        prod = a*b*c*d*e*f*g*h*i\n",
    "                                        for j in range(i, a_max//prod+1):\n",
    "                                            prod = a*b*c*d*e*f*g*h*i*j\n",
    "                                            for k in range(j, a_max//prod+1):\n",
    "                                                prod = a*b*c*d*e*f*g*h*i*j*k\n",
    "                                                l_min = max(2, k)\n",
    "                                                l_max = k_max // (2*prod)\n",
    "                                                for l in range(l_min,\n",
    "                                                               l_max+1):\n",
    "                                                    for m in range(l,\n",
    "                                                                   k_max+1):\n",
    "                                                        prod = (a*b*c*d*e*f*g\n",
    "                                                                *h*i*j*k*l*m)\n",
    "                                                        s = (a+b+c+d+e+f+g+h\n",
    "                                                             +i+j+k+l+m)\n",
    "                                                        kk = prod - s + 13\n",
    "                                                        if kk > k_max:\n",
    "                                                            break\n",
    "                                                        if prod < mps[kk]:\n",
    "                                                            mps[kk] = prod\n",
    "    return sum(set(mps))\n",
    "\n",
    "print(problem88())"
   ]
  },
  {
   "cell_type": "markdown",
   "metadata": {
    "ExecuteTime": {
     "end_time": "2017-10-09T16:05:43.503970Z",
     "start_time": "2017-10-09T16:05:43.498121Z"
    },
    "heading_collapsed": true
   },
   "source": [
    "### Problem 89"
   ]
  },
  {
   "cell_type": "code",
   "execution_count": 70,
   "metadata": {
    "ExecuteTime": {
     "end_time": "2017-10-11T17:59:30.554045Z",
     "start_time": "2017-10-11T17:59:29.327131Z"
    }
   },
   "outputs": [],
   "source": [
    "from urllib.request import urlopen\n",
    "    \n",
    "url = 'https://projecteuler.net/project/resources/p089_roman.txt'\n",
    "with urlopen(url) as response:\n",
    "    DATA = response.read().decode()\n",
    "    \n",
    "def minimize_form(number):\n",
    "    number = number.replace('VIIII', 'IX')\n",
    "    number = number.replace('IIII', 'IV')\n",
    "    number = number.replace('LXXXX', 'XC')\n",
    "    number = number.replace('XXXX', 'XL')\n",
    "    number = number.replace('DCCCC', 'CM')\n",
    "    number = number.replace('CCCC', 'CD')\n",
    "    return number"
   ]
  },
  {
   "cell_type": "code",
   "execution_count": 71,
   "metadata": {
    "ExecuteTime": {
     "end_time": "2017-10-11T17:59:30.566943Z",
     "start_time": "2017-10-11T17:59:30.559861Z"
    }
   },
   "outputs": [
    {
     "name": "stdout",
     "output_type": "stream",
     "text": [
      "743\n",
      "CPU times: user 4 ms, sys: 0 ns, total: 4 ms\n",
      "Wall time: 1.1 ms\n"
     ]
    }
   ],
   "source": [
    "%%time\n",
    "def problem89():\n",
    "    return (sum([len(x) for x in DATA.split()])\n",
    "            - sum([len(minimize_form(x)) for x in DATA.split()]))\n",
    "\n",
    "print(problem89())"
   ]
  },
  {
   "cell_type": "markdown",
   "metadata": {
    "heading_collapsed": true
   },
   "source": [
    "### Problem 90"
   ]
  },
  {
   "cell_type": "code",
   "execution_count": 72,
   "metadata": {
    "ExecuteTime": {
     "end_time": "2017-10-11T17:59:30.614812Z",
     "start_time": "2017-10-11T17:59:30.568265Z"
    },
    "collapsed": true
   },
   "outputs": [],
   "source": [
    "from itertools import combinations, product\n",
    "\n",
    "def check(square, pairs):\n",
    "    if (square[0], square[1]) in pairs or (square[1], square[0]) in pairs:\n",
    "        return True\n",
    "    else:\n",
    "        return False"
   ]
  },
  {
   "cell_type": "code",
   "execution_count": 73,
   "metadata": {
    "ExecuteTime": {
     "end_time": "2017-10-11T17:59:31.068629Z",
     "start_time": "2017-10-11T17:59:30.617026Z"
    }
   },
   "outputs": [
    {
     "name": "stdout",
     "output_type": "stream",
     "text": [
      "1217\n",
      "CPU times: user 360 ms, sys: 0 ns, total: 360 ms\n",
      "Wall time: 360 ms\n"
     ]
    }
   ],
   "source": [
    "%%time\n",
    "def problem90():\n",
    "    arrangements = [set(x) | {'6', '9'} if ('6' in x or '9' in x)\n",
    "                    else set(x) for x in combinations('0123456789', 6)]\n",
    "    squares = ['01', '04', '09', '16', '25', '36', '49', '64', '81']\n",
    "    c = 0\n",
    "    for dice1 in arrangements:\n",
    "        for dice2 in arrangements:\n",
    "            pairs = list(product(dice1, dice2))\n",
    "            flag = True\n",
    "            for square in squares:\n",
    "                if not check(square, pairs):\n",
    "                    flag = False\n",
    "                    break\n",
    "            if flag == True:\n",
    "                c += 1\n",
    "    return c//2\n",
    "\n",
    "\n",
    "print(problem90())"
   ]
  },
  {
   "cell_type": "markdown",
   "metadata": {
    "heading_collapsed": true
   },
   "source": [
    "### Problem 91"
   ]
  },
  {
   "cell_type": "code",
   "execution_count": 74,
   "metadata": {
    "ExecuteTime": {
     "end_time": "2017-10-11T17:59:31.072318Z",
     "start_time": "2017-10-11T17:59:31.070152Z"
    },
    "collapsed": true
   },
   "outputs": [],
   "source": [
    "from numba import jit"
   ]
  },
  {
   "cell_type": "code",
   "execution_count": 75,
   "metadata": {
    "ExecuteTime": {
     "end_time": "2017-10-11T17:59:31.235564Z",
     "start_time": "2017-10-11T17:59:31.073785Z"
    }
   },
   "outputs": [
    {
     "name": "stdout",
     "output_type": "stream",
     "text": [
      "14234\n"
     ]
    }
   ],
   "source": [
    "@jit\n",
    "def problem91():\n",
    "    s = 0\n",
    "    for i in range(0, 51):\n",
    "        for j in range(0, i):\n",
    "            c = i**2 + j**2\n",
    "            for a in range(0, 51):\n",
    "                for b in range(0, 51):\n",
    "                    if a == 0 and b == 0:\n",
    "                        continue\n",
    "                    if a == i and b == j:\n",
    "                        continue\n",
    "                    if a**2 + b**2 + (i-a)**2 + (j-b)**2 == c:\n",
    "                        s += 1\n",
    "            for k in range(1, 51):\n",
    "                if k**2 + k**2 == c + (i-k)**2 + (j-k)**2:\n",
    "                    s += 1\n",
    "    return 2*s + 50*50\n",
    "\n",
    "print(problem91())"
   ]
  },
  {
   "cell_type": "markdown",
   "metadata": {
    "heading_collapsed": true
   },
   "source": [
    "### Problem 92"
   ]
  },
  {
   "cell_type": "code",
   "execution_count": 76,
   "metadata": {
    "ExecuteTime": {
     "end_time": "2017-10-11T17:59:31.248757Z",
     "start_time": "2017-10-11T17:59:31.237073Z"
    },
    "collapsed": true
   },
   "outputs": [],
   "source": [
    "from numba import jit\n",
    "\n",
    "@jit\n",
    "def make_sum_digits2_table():\n",
    "    sum_digits2_table = [0] * 10**7\n",
    "    digits2 = [x**2 for x in range(10)]\n",
    "    for i1 in range(10):\n",
    "        for i2 in range(10):\n",
    "            for i3 in range(10):\n",
    "                for i4 in range(10):\n",
    "                    for i5 in range(10):\n",
    "                        for i6 in range(10):\n",
    "                            for i7 in range(10):\n",
    "                                num = (i1+i2*10+i3*100+i4*1000+i5*10000\n",
    "                                       +i6*100000+i7*1000000)\n",
    "                                sd2 = (digits2[i1]+digits2[i2]+digits2[i3]\n",
    "                                       +digits2[i4]+digits2[i5]\n",
    "                                       +digits2[i6]+digits2[i7])\n",
    "                                sum_digits2_table[num] = sd2\n",
    "    return sum_digits2_table"
   ]
  },
  {
   "cell_type": "code",
   "execution_count": 77,
   "metadata": {
    "ExecuteTime": {
     "end_time": "2017-10-11T17:59:31.830618Z",
     "start_time": "2017-10-11T17:59:31.250289Z"
    }
   },
   "outputs": [
    {
     "name": "stdout",
     "output_type": "stream",
     "text": [
      "8581146\n",
      "CPU times: user 432 ms, sys: 16 ms, total: 448 ms\n",
      "Wall time: 451 ms\n"
     ]
    }
   ],
   "source": [
    "%%time\n",
    "@jit\n",
    "def problem92():\n",
    "    sum_digits2_table = make_sum_digits2_table()\n",
    "    chain_end = [0] * 10**7\n",
    "    chain_end[1] = 1\n",
    "    chain_end[89] = 2\n",
    "    for i in range(1, 10**7):\n",
    "        j = i\n",
    "        while chain_end[j] == 0:\n",
    "            j = sum_digits2_table[j]\n",
    "        chain_end[i] = chain_end[j]\n",
    "        \n",
    "    c = 0\n",
    "    for i in range(10**7):\n",
    "        if chain_end[i] == 2:\n",
    "            c += 1\n",
    "    return c\n",
    "\n",
    "print(problem92())"
   ]
  },
  {
   "cell_type": "markdown",
   "metadata": {
    "ExecuteTime": {
     "end_time": "2017-10-10T06:52:50.836575Z",
     "start_time": "2017-10-10T06:52:50.827936Z"
    },
    "heading_collapsed": true
   },
   "source": [
    "### Problem 93"
   ]
  },
  {
   "cell_type": "code",
   "execution_count": 78,
   "metadata": {
    "ExecuteTime": {
     "end_time": "2017-10-11T17:59:31.834611Z",
     "start_time": "2017-10-11T17:59:31.832116Z"
    }
   },
   "outputs": [],
   "source": [
    "from itertools import combinations, permutations\n",
    "from operator import add, truediv, mul, sub"
   ]
  },
  {
   "cell_type": "code",
   "execution_count": 79,
   "metadata": {
    "ExecuteTime": {
     "end_time": "2017-10-11T17:59:32.201177Z",
     "start_time": "2017-10-11T17:59:31.836036Z"
    }
   },
   "outputs": [
    {
     "name": "stdout",
     "output_type": "stream",
     "text": [
      "1258\n",
      "CPU times: user 304 ms, sys: 0 ns, total: 304 ms\n",
      "Wall time: 303 ms\n"
     ]
    }
   ],
   "source": [
    "%%time\n",
    "def problem93():\n",
    "    combos = dict()\n",
    "    ops = [add, truediv, mul, sub,\n",
    "           lambda a, b: sub(b, a), lambda a, b: truediv(b, a)]\n",
    "    for four_digit in list(combinations(range(1, 10), 4)):\n",
    "        A = [0]*10000\n",
    "        for (a, b, c, d) in permutations(four_digit):\n",
    "            for op1 in ops:\n",
    "                for op2 in ops:\n",
    "                    for op3 in ops:\n",
    "                        try:\n",
    "                            num = op3(op2(op1(a,b),c),d)\n",
    "                        except ZeroDivisionError:\n",
    "                            continue\n",
    "                        if num > 0 and num - int(num) < 0.001:\n",
    "                            A[int(num)] = 1\n",
    "        A[0] = 1\n",
    "        combos[four_digit] = A.index(0) - 1\n",
    "    max_combo = max(combos, key=combos.get)\n",
    "    return ''.join([str(x) for x in max_combo])\n",
    "\n",
    "print(problem93())"
   ]
  },
  {
   "cell_type": "markdown",
   "metadata": {
    "heading_collapsed": true
   },
   "source": [
    "### Problem 94"
   ]
  },
  {
   "cell_type": "code",
   "execution_count": 80,
   "metadata": {
    "ExecuteTime": {
     "end_time": "2017-10-11T17:59:32.204609Z",
     "start_time": "2017-10-11T17:59:32.202614Z"
    },
    "collapsed": true
   },
   "outputs": [],
   "source": [
    "from numba import jit"
   ]
  },
  {
   "cell_type": "code",
   "execution_count": 81,
   "metadata": {
    "ExecuteTime": {
     "end_time": "2017-10-11T17:59:32.909809Z",
     "start_time": "2017-10-11T17:59:32.206093Z"
    }
   },
   "outputs": [
    {
     "name": "stdout",
     "output_type": "stream",
     "text": [
      "518408346\n",
      "CPU times: user 632 ms, sys: 8 ms, total: 640 ms\n",
      "Wall time: 639 ms\n"
     ]
    }
   ],
   "source": [
    "%%time\n",
    "@jit\n",
    "def problem94():\n",
    "    n_max = (10**9 - 2) // 6\n",
    "    s = 0\n",
    "    for n in range(2, n_max+1):\n",
    "        h2 = 3*n*n + 4*n + 1\n",
    "        if h2 == int(h2**0.5)**2:\n",
    "            s += (6*n+2)\n",
    "        h2 = 3*n*n - 4*n + 1\n",
    "        if h2 == int(h2**0.5)**2:\n",
    "            s += (6*n-2)\n",
    "    n = n_max+1\n",
    "    h2 = 3*n*n - 4*n + 1\n",
    "    if h2 == int(h2**0.5)**2:\n",
    "        s += (6*n-2)\n",
    "    return s\n",
    "\n",
    "print(problem94())"
   ]
  },
  {
   "cell_type": "markdown",
   "metadata": {
    "heading_collapsed": true
   },
   "source": [
    "### Problem 95"
   ]
  },
  {
   "cell_type": "code",
   "execution_count": 82,
   "metadata": {
    "ExecuteTime": {
     "end_time": "2017-10-11T17:59:32.924980Z",
     "start_time": "2017-10-11T17:59:32.911386Z"
    },
    "collapsed": true
   },
   "outputs": [],
   "source": [
    "import numpy as np\n",
    "from numba import jit\n",
    "\n",
    "@jit\n",
    "def get_proper_sum(limit):\n",
    "    sieve = np.ones(limit+1)\n",
    "    proper_sum = np.ones(limit+1, dtype=np.int32)\n",
    "    current_n = np.arange(limit+1)\n",
    "    for p in range(2, int(limit**0.5)+1):\n",
    "        if sieve[p] == 1:\n",
    "            sieve[p::p] = 0\n",
    "            for n in range(p, limit+1, p):\n",
    "                temp = proper_sum[n]\n",
    "                while current_n[n] % p == 0:\n",
    "                    current_n[n] //= p\n",
    "                    proper_sum[n] = proper_sum[n]*p + temp\n",
    "    current_n = (current_n != 1) + current_n\n",
    "    proper_sum = proper_sum * current_n - np.arange(limit+1)\n",
    "    return proper_sum"
   ]
  },
  {
   "cell_type": "code",
   "execution_count": 83,
   "metadata": {
    "ExecuteTime": {
     "end_time": "2017-10-11T17:59:33.820688Z",
     "start_time": "2017-10-11T17:59:32.926547Z"
    }
   },
   "outputs": [
    {
     "name": "stdout",
     "output_type": "stream",
     "text": [
      "14316\n",
      "CPU times: user 808 ms, sys: 0 ns, total: 808 ms\n",
      "Wall time: 808 ms\n"
     ]
    }
   ],
   "source": [
    "%%time\n",
    "@jit\n",
    "def problem95():\n",
    "    limit = 10**6\n",
    "    proper_sum = get_proper_sum(limit)\n",
    "    checked = np.zeros(limit+1, dtype=np.int8)\n",
    "    checked[proper_sum > limit] = -1\n",
    "    checked[proper_sum == 1] = -1\n",
    "    checked[1] = -1\n",
    "    len_max = 0\n",
    "    start_min = 0\n",
    "    for i in range(2, limit+1):\n",
    "        if checked[i] != 0:\n",
    "            continue\n",
    "        next_i = i\n",
    "        while checked[next_i] == 0:\n",
    "            checked[next_i] = 1\n",
    "            next_i = proper_sum[next_i]\n",
    "        if checked[next_i] == 1:\n",
    "            j = i\n",
    "            while j != next_i:\n",
    "                checked[j] = -1\n",
    "                j = proper_sum[j]\n",
    "            chain_len = 1\n",
    "            chain_min = next_i\n",
    "            j = proper_sum[next_i]\n",
    "            while j != next_i:\n",
    "                checked[j] = -1\n",
    "                chain_len += 1\n",
    "                if j < chain_min:\n",
    "                    chain_min = j\n",
    "                j = proper_sum[j]\n",
    "            if chain_len > len_max:\n",
    "                len_max = chain_len\n",
    "                start_min = chain_min\n",
    "        else:\n",
    "            j = i\n",
    "            while checked[j] == 1:\n",
    "                checked[j] = -1\n",
    "                j = proper_sum[j]\n",
    "    return start_min\n",
    "\n",
    "print(problem95())"
   ]
  },
  {
   "cell_type": "markdown",
   "metadata": {
    "heading_collapsed": true
   },
   "source": [
    "### Problem 96"
   ]
  },
  {
   "cell_type": "code",
   "execution_count": 84,
   "metadata": {
    "ExecuteTime": {
     "end_time": "2017-10-11T17:59:35.240946Z",
     "start_time": "2017-10-11T17:59:33.822206Z"
    },
    "collapsed": true
   },
   "outputs": [],
   "source": [
    "from urllib.request import urlopen\n",
    "import numpy as np\n",
    "    \n",
    "url = 'https://projecteuler.net/project/resources/p096_sudoku.txt'\n",
    "with urlopen(url) as response:\n",
    "    DATA = response.read().decode()\n",
    "\n",
    "def scan(sudoku):\n",
    "    for num in range(9):\n",
    "        for a in range(3):\n",
    "            for b in range(3):\n",
    "                if sudoku[a,b,:,:,num].sum() == 1:\n",
    "                    c_list, d_list = np.nonzero(sudoku[a,b,:,:,num])\n",
    "                    return a, b, c_list[0], d_list[0], num\n",
    "    for num in range(9):\n",
    "        for c in range(3):\n",
    "            for d in range(3):\n",
    "                if sudoku[:,:,c,d,num].sum() == 1:\n",
    "                    a_list, b_list = np.nonzero(sudoku[:,:,c,d,num])\n",
    "                    return a_list[0], b_list[0], c, d, num\n",
    "    for num in range(9):\n",
    "        for a in range(3):\n",
    "            for c in range(3):\n",
    "                if sudoku[a,:,c,:,num].sum() == 1:\n",
    "                    b_list, d_list = np.nonzero(sudoku[a,:,c,:,num])\n",
    "                    return a, b_list[0], c, d_list[0], num\n",
    "    for a in range(3):\n",
    "        for b in range(3):\n",
    "            for c in range(3):\n",
    "                for d in range(3):\n",
    "                    if sudoku[a,b,c,d,:].sum() == 1:\n",
    "                        num_list = np.nonzero(sudoku[a,b,c,d,:])\n",
    "                        return a, b, c, d, num_list[0][0]\n",
    "    return 0, 0, 0, 0, -1\n",
    "\n",
    "def fill(sudoku, a, b, c, d, num):\n",
    "    sudoku[a, b, :, :, num] = 0\n",
    "    sudoku[:, :, c, d, num] = 0\n",
    "    sudoku[a, :, c, :, num] = 0\n",
    "    sudoku[a, b, c, d, :] = 0\n",
    "    sudoku[a, b, c, d, num] = 10\n",
    "\n",
    "def scan_and_fill(sudoku):\n",
    "    a, b, c, d, num = scan(sudoku)\n",
    "    if num == -1:\n",
    "        return False\n",
    "    fill(sudoku, a, b, c, d, num)\n",
    "    return True\n",
    "\n",
    "def solve(sudoku):\n",
    "    unknown = 81 - (sudoku == 10).sum()\n",
    "    while unknown != 0:\n",
    "        if not scan_and_fill(sudoku):\n",
    "            a, b, c, d = np.unravel_index(sudoku.sum(axis=4).argmin(),\n",
    "                                          dims=(3,3,3,3))\n",
    "            num_list = np.nonzero(sudoku[a,b,c,d])[0]\n",
    "            for num in num_list:\n",
    "                new_sudoku = sudoku.copy()\n",
    "                fill(new_sudoku, a, b, c, d, num)\n",
    "                if solve(new_sudoku):\n",
    "                    sudoku[:] = new_sudoku[:]\n",
    "                    return True\n",
    "            return False\n",
    "        unknown -= 1\n",
    "    return True\n",
    "\n",
    "def read(quiz):\n",
    "    sudoku = np.ones((3, 3, 3, 3, 9), dtype=np.uint8)\n",
    "    for row in range(9):\n",
    "        for col in range(9):\n",
    "            a = row // 3\n",
    "            b = row % 3\n",
    "            c = col // 3\n",
    "            d = col % 3\n",
    "            num = int(quiz[row][col])\n",
    "            if num != 0:\n",
    "                fill(sudoku, a, b, c, d, num-1)\n",
    "    return sudoku"
   ]
  },
  {
   "cell_type": "code",
   "execution_count": 85,
   "metadata": {
    "ExecuteTime": {
     "end_time": "2017-10-11T17:59:35.803254Z",
     "start_time": "2017-10-11T17:59:35.242312Z"
    },
    "scrolled": false
   },
   "outputs": [
    {
     "name": "stdout",
     "output_type": "stream",
     "text": [
      "24702\n",
      "CPU times: user 552 ms, sys: 0 ns, total: 552 ms\n",
      "Wall time: 552 ms\n"
     ]
    }
   ],
   "source": [
    "%%time\n",
    "def problem96():\n",
    "    s = 0\n",
    "    for i in range(50):\n",
    "        quiz = DATA.split()[11*i+2:11*i+11]\n",
    "        sudoku = read(quiz)\n",
    "        solve(sudoku)\n",
    "        a, b, c = np.nonzero(sudoku[0,0,0,:])[1]\n",
    "        s += (a+1)*100 + (b+1)*10 + (c+1)\n",
    "    return s\n",
    "    \n",
    "print(problem96())"
   ]
  },
  {
   "cell_type": "markdown",
   "metadata": {
    "heading_collapsed": true
   },
   "source": [
    "### Problem 97"
   ]
  },
  {
   "cell_type": "code",
   "execution_count": 86,
   "metadata": {
    "ExecuteTime": {
     "end_time": "2017-10-11T17:59:36.286041Z",
     "start_time": "2017-10-11T17:59:35.804703Z"
    }
   },
   "outputs": [
    {
     "name": "stdout",
     "output_type": "stream",
     "text": [
      "8739992577\n",
      "CPU times: user 0 ns, sys: 0 ns, total: 0 ns\n",
      "Wall time: 86.5 µs\n"
     ]
    }
   ],
   "source": [
    "%%time\n",
    "def problem97():\n",
    "    28433*2**7830457+1\n",
    "    two_to_100000 = (2**100000) % 10**10\n",
    "    two_to_30457 = (2**30457) % 10**10\n",
    "    return (28433 * two_to_100000**78 * two_to_30457 + 1) % 10**10\n",
    "\n",
    "print(problem97())"
   ]
  },
  {
   "cell_type": "markdown",
   "metadata": {
    "heading_collapsed": true
   },
   "source": [
    "### Problem 98"
   ]
  },
  {
   "cell_type": "code",
   "execution_count": 87,
   "metadata": {
    "ExecuteTime": {
     "end_time": "2017-10-11T17:59:37.853792Z",
     "start_time": "2017-10-11T17:59:36.287410Z"
    },
    "collapsed": true
   },
   "outputs": [],
   "source": [
    "from urllib.request import urlopen\n",
    "from collections import defaultdict\n",
    "    \n",
    "url = 'https://projecteuler.net/project/resources/p098_words.txt'\n",
    "with urlopen(url) as response:\n",
    "    DATA = response.read().decode()"
   ]
  },
  {
   "cell_type": "code",
   "execution_count": 88,
   "metadata": {
    "ExecuteTime": {
     "end_time": "2017-10-11T17:59:38.018783Z",
     "start_time": "2017-10-11T17:59:37.859670Z"
    }
   },
   "outputs": [
    {
     "name": "stdout",
     "output_type": "stream",
     "text": [
      "18769\n",
      "CPU times: user 116 ms, sys: 0 ns, total: 116 ms\n",
      "Wall time: 115 ms\n"
     ]
    }
   ],
   "source": [
    "%%time\n",
    "def problem98():  \n",
    "    word_list = DATA.strip('\"').split('\",\"')\n",
    "    anagram_dict = defaultdict(list)\n",
    "    for word in word_list:\n",
    "        anagram_dict[''.join(sorted(word))].append(word)\n",
    "    filter_dict = dict((key, value)\n",
    "                       for (key, value) in anagram_dict.items() if len(value)>1)\n",
    "\n",
    "    square_dict = dict()\n",
    "    for i in set(len(key) for key in filter_dict.keys()):\n",
    "        square_max = int((10**i-1)**0.5)\n",
    "        square_min = int((10**(i-1)-1)**0.5)+1\n",
    "        square_dict[i] = [x**2 for x in range(square_min, square_max+1)]\n",
    "        \n",
    "    s_max = 0\n",
    "    for key in filter_dict:\n",
    "        if len(filter_dict[key]) == 2:\n",
    "            word1, word2 = filter_dict[key]\n",
    "            for square in square_dict[len(key)]:\n",
    "                match = {w: s for w, s in zip(word1, str(square))}\n",
    "                reverse_match = {s: w for w, s in zip(word1, str(square))}\n",
    "                if len(match) != len(key) or len(reverse_match) != len(key):\n",
    "                    continue\n",
    "                square2 = int(''.join([match[c] for c in word2]))\n",
    "                if square2 in square_dict[len(key)]:\n",
    "                    if square > s_max:\n",
    "                        s_max = square\n",
    "                    if square2 > s_max:\n",
    "                        s_max = square2\n",
    "    return s_max\n",
    "\n",
    "print(problem98())"
   ]
  },
  {
   "cell_type": "markdown",
   "metadata": {
    "heading_collapsed": true
   },
   "source": [
    "### Problem 99"
   ]
  },
  {
   "cell_type": "code",
   "execution_count": 89,
   "metadata": {
    "ExecuteTime": {
     "end_time": "2017-10-11T17:59:39.322929Z",
     "start_time": "2017-10-11T17:59:38.020233Z"
    }
   },
   "outputs": [],
   "source": [
    "from urllib.request import urlopen\n",
    "    \n",
    "url = 'https://projecteuler.net/project/resources/p099_base_exp.txt'\n",
    "with urlopen(url) as response:\n",
    "    DATA = response.read().decode()"
   ]
  },
  {
   "cell_type": "code",
   "execution_count": 90,
   "metadata": {
    "ExecuteTime": {
     "end_time": "2017-10-11T17:59:39.338929Z",
     "start_time": "2017-10-11T17:59:39.328698Z"
    }
   },
   "outputs": [
    {
     "name": "stdout",
     "output_type": "stream",
     "text": [
      "709\n",
      "CPU times: user 4 ms, sys: 0 ns, total: 4 ms\n",
      "Wall time: 1.05 ms\n"
     ]
    }
   ],
   "source": [
    "%%time\n",
    "def problem99():\n",
    "    x_max = 1\n",
    "    y_max = 1\n",
    "    line_max = 0\n",
    "    for line, pair in enumerate(DATA.split(), 1):\n",
    "        x, y = [int(a) for a in pair.split(',')]\n",
    "        if x > x_max**(y_max/y):\n",
    "            x_max, y_max = x, y\n",
    "            line_max = line\n",
    "    return line_max\n",
    "\n",
    "print(problem99())"
   ]
  },
  {
   "cell_type": "markdown",
   "metadata": {
    "heading_collapsed": true
   },
   "source": [
    "### Problem 100"
   ]
  },
  {
   "cell_type": "code",
   "execution_count": 91,
   "metadata": {
    "ExecuteTime": {
     "end_time": "2017-10-11T17:59:39.394649Z",
     "start_time": "2017-10-11T17:59:39.339868Z"
    }
   },
   "outputs": [
    {
     "name": "stdout",
     "output_type": "stream",
     "text": [
      "756872327473\n",
      "CPU times: user 0 ns, sys: 0 ns, total: 0 ns\n",
      "Wall time: 122 µs\n"
     ]
    }
   ],
   "source": [
    "%%time\n",
    "def problem100():\n",
    "    pell_fund = (1, 1)\n",
    "    x, y = pell_fund\n",
    "    while x <= 2*10**12-1:\n",
    "        x, y = 3*x + 4*y, 2*x + 3*y\n",
    "    return (y+1)//2\n",
    "    \n",
    "print(problem100())"
   ]
  }
 ],
 "metadata": {
  "kernelspec": {
   "display_name": "Python (pydata)",
   "language": "python",
   "name": "pydata"
  },
  "language_info": {
   "codemirror_mode": {
    "name": "ipython",
    "version": 3
   },
   "file_extension": ".py",
   "mimetype": "text/x-python",
   "name": "python",
   "nbconvert_exporter": "python",
   "pygments_lexer": "ipython3",
   "version": "3.5.4"
  }
 },
 "nbformat": 4,
 "nbformat_minor": 1
}

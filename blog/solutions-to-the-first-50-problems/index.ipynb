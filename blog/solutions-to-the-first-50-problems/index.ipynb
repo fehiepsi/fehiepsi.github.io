{
 "cells": [
  {
   "cell_type": "markdown",
   "metadata": {},
   "source": [
    "These are codes to solve first 50 problems in [Project Euler](http://projecteuler.net/). The thing is that I try to make these *python* codes give solutions in less than 1 seconds. This is achieved by using the excellent **numba** [package](http://numba.pydata.org/). This post is written in a IPython notebook."
   ]
  },
  {
   "cell_type": "code",
   "execution_count": 1,
   "metadata": {
    "collapsed": false
   },
   "outputs": [],
   "source": [
    "# !mkdir pe"
   ]
  },
  {
   "cell_type": "code",
   "execution_count": 2,
   "metadata": {
    "collapsed": false
   },
   "outputs": [
    {
     "name": "stdout",
     "output_type": "stream",
     "text": [
      "233168\n",
      "1000 loops, best of 3: 245 µs per loop\n"
     ]
    }
   ],
   "source": [
    "def problem1():\n",
    "    n = 1000\n",
    "    s = 0\n",
    "    for i in range(1, n):\n",
    "        if i % 3 == 0 or i % 5 == 0:\n",
    "            s += i\n",
    "    return s\n",
    "\n",
    "print(problem1())\n",
    "%timeit problem1()"
   ]
  },
  {
   "cell_type": "code",
   "execution_count": 3,
   "metadata": {
    "collapsed": false
   },
   "outputs": [
    {
     "name": "stdout",
     "output_type": "stream",
     "text": [
      "4613732\n",
      "100000 loops, best of 3: 8.44 µs per loop\n"
     ]
    }
   ],
   "source": [
    "def problem2():\n",
    "    n = 4000000\n",
    "    s = 0\n",
    "    a, b = 1, 2\n",
    "    while a <= n:\n",
    "        if a % 2 == 0:\n",
    "            s += a\n",
    "        a, b = b, a+b\n",
    "    return s\n",
    "\n",
    "print(problem2())\n",
    "%timeit problem2()"
   ]
  },
  {
   "cell_type": "code",
   "execution_count": 4,
   "metadata": {
    "collapsed": false
   },
   "outputs": [
    {
     "name": "stdout",
     "output_type": "stream",
     "text": [
      "6857\n",
      "1000 loops, best of 3: 1.68 ms per loop\n"
     ]
    }
   ],
   "source": [
    "def problem3():\n",
    "    n = 600851475143\n",
    "    i = 1\n",
    "    while n != 1:\n",
    "        i += 1\n",
    "        while n % i == 0:\n",
    "            n = n // i\n",
    "    return i\n",
    "\n",
    "print(problem3())\n",
    "%timeit problem3()"
   ]
  },
  {
   "cell_type": "code",
   "execution_count": 5,
   "metadata": {
    "collapsed": false
   },
   "outputs": [
    {
     "name": "stdout",
     "output_type": "stream",
     "text": [
      "906609\n",
      "1 loop, best of 3: 352 ms per loop\n"
     ]
    }
   ],
   "source": [
    "def problem4():\n",
    "    m = 10000\n",
    "    for i in range(100, 1000):\n",
    "        for j in range(i, 1000):\n",
    "            p = i * j\n",
    "            if str(p) == str(p)[::-1] and p > m:\n",
    "                m = p\n",
    "    return m\n",
    "\n",
    "print(problem4())\n",
    "%timeit problem4()"
   ]
  },
  {
   "cell_type": "code",
   "execution_count": 6,
   "metadata": {
    "collapsed": false
   },
   "outputs": [
    {
     "name": "stdout",
     "output_type": "stream",
     "text": [
      "232792560\n",
      "100000 loops, best of 3: 15.9 µs per loop\n"
     ]
    }
   ],
   "source": [
    "def common_divisor(a, b):\n",
    "    while a != 0:\n",
    "        a, b = b%a, a\n",
    "    return b\n",
    "\n",
    "def problem5():\n",
    "    n = 20\n",
    "    p = 1\n",
    "    for i in range(2, n+1):\n",
    "        p = (p * i) // common_divisor(p, i)\n",
    "    return p\n",
    "\n",
    "print(problem5())\n",
    "%timeit problem5()"
   ]
  },
  {
   "cell_type": "code",
   "execution_count": 7,
   "metadata": {
    "collapsed": false
   },
   "outputs": [
    {
     "name": "stdout",
     "output_type": "stream",
     "text": [
      "25164150\n",
      "1000 loops, best of 3: 530 µs per loop\n"
     ]
    }
   ],
   "source": [
    "def problem6():\n",
    "    n = 100\n",
    "    s = 0\n",
    "    for i in range(1, n):\n",
    "        for j in range(i+1, n+1):\n",
    "            s += i * j\n",
    "    return 2 * s\n",
    "\n",
    "print(problem6())\n",
    "%timeit problem6()"
   ]
  },
  {
   "cell_type": "code",
   "execution_count": 8,
   "metadata": {
    "collapsed": false
   },
   "outputs": [
    {
     "name": "stdout",
     "output_type": "stream",
     "text": [
      "104743\n",
      "10 loops, best of 3: 27.3 ms per loop\n"
     ]
    }
   ],
   "source": [
    "import numpy as np\n",
    "from numba import jit\n",
    "\n",
    "@jit\n",
    "def sieveEratosthenes(n):\n",
    "    s = np.ones(n+1)\n",
    "    s[0] = 0\n",
    "    s[1] = 0\n",
    "    for i in range(2, int(n**0.5)+1):\n",
    "        if s[i] == 1:\n",
    "            for j in range(2, (n//i)+1):\n",
    "                s[i*j] = 0\n",
    "    return s\n",
    "\n",
    "@jit\n",
    "def problem7():\n",
    "    n = 10001\n",
    "    limit = 10**6\n",
    "    sieve = sieveEratosthenes(limit)\n",
    "    c = 0\n",
    "    for i in range(len(sieve)):\n",
    "        if sieve[i] == 1:\n",
    "            c += 1\n",
    "        if c == n:\n",
    "            return i\n",
    "\n",
    "print(problem7())\n",
    "%timeit problem7()"
   ]
  },
  {
   "cell_type": "code",
   "execution_count": 9,
   "metadata": {
    "collapsed": false
   },
   "outputs": [
    {
     "name": "stdout",
     "output_type": "stream",
     "text": [
      "Overwriting pe/problem8.txt\n"
     ]
    }
   ],
   "source": [
    "%%file pe/problem8.txt\n",
    "73167176531330624919225119674426574742355349194934\n",
    "96983520312774506326239578318016984801869478851843\n",
    "85861560789112949495459501737958331952853208805511\n",
    "12540698747158523863050715693290963295227443043557\n",
    "66896648950445244523161731856403098711121722383113\n",
    "62229893423380308135336276614282806444486645238749\n",
    "30358907296290491560440772390713810515859307960866\n",
    "70172427121883998797908792274921901699720888093776\n",
    "65727333001053367881220235421809751254540594752243\n",
    "52584907711670556013604839586446706324415722155397\n",
    "53697817977846174064955149290862569321978468622482\n",
    "83972241375657056057490261407972968652414535100474\n",
    "82166370484403199890008895243450658541227588666881\n",
    "16427171479924442928230863465674813919123162824586\n",
    "17866458359124566529476545682848912883142607690042\n",
    "24219022671055626321111109370544217506941658960408\n",
    "07198403850962455444362981230987879927244284909188\n",
    "84580156166097919133875499200524063689912560717606\n",
    "05886116467109405077541002256983155200055935729725\n",
    "71636269561882670428252483600823257530420752963450"
   ]
  },
  {
   "cell_type": "code",
   "execution_count": 10,
   "metadata": {
    "collapsed": false
   },
   "outputs": [
    {
     "name": "stdout",
     "output_type": "stream",
     "text": [
      "40824\n",
      "100 loops, best of 3: 4.2 ms per loop\n"
     ]
    }
   ],
   "source": [
    "def problem8():\n",
    "    a = []\n",
    "    with open('pe/problem8.txt') as f:\n",
    "        for line in f:\n",
    "            a.append(line.rstrip('\\n'))\n",
    "    m = 0\n",
    "    for n in range(996):\n",
    "        p = 1\n",
    "        for i in range(5):\n",
    "            p *= int(a[(n+i)//50][(n+i)%50])\n",
    "        if p > m:\n",
    "            m = p\n",
    "    return m\n",
    "\n",
    "print(problem8())\n",
    "%timeit problem8()"
   ]
  },
  {
   "cell_type": "code",
   "execution_count": 11,
   "metadata": {
    "collapsed": false
   },
   "outputs": [
    {
     "name": "stdout",
     "output_type": "stream",
     "text": [
      "31875000\n",
      "1 loop, best of 3: 229 ms per loop\n"
     ]
    }
   ],
   "source": [
    "def problem9():\n",
    "    n = 1000\n",
    "    for b in range(1, n//2):\n",
    "        for a in range(1, n-2*b):\n",
    "            c = 1000 - a - b\n",
    "            if a**2 + b**2 == c**2:\n",
    "                return a*b*c\n",
    "\n",
    "print(problem9())\n",
    "%timeit problem9()"
   ]
  },
  {
   "cell_type": "code",
   "execution_count": 12,
   "metadata": {
    "collapsed": false
   },
   "outputs": [
    {
     "name": "stdout",
     "output_type": "stream",
     "text": [
      "142913828922\n",
      "100 loops, best of 3: 9.03 ms per loop\n"
     ]
    }
   ],
   "source": [
    "import numpy as np\n",
    "from numba import jit, int64\n",
    "\n",
    "@jit\n",
    "def sieveEratosthenes(n):\n",
    "    s = np.ones(n+1, dtype=np.int8)\n",
    "    s[0] = 0\n",
    "    s[1] = 0\n",
    "    for i in range(2, int(n**0.5)+1):\n",
    "        if s[i] == 1:\n",
    "            for j in range(2, (n//i)+1):\n",
    "                s[i*j] = 0\n",
    "    return s\n",
    "\n",
    "@jit(locals={'s': int64})\n",
    "def problem10():\n",
    "    n = 2000000\n",
    "    sieve = sieveEratosthenes(n-1)\n",
    "    s = 0\n",
    "    for i in range(len(sieve)):\n",
    "        if sieve[i] == 1:\n",
    "            s += i\n",
    "    return s\n",
    "\n",
    "print(problem10())\n",
    "%timeit problem10()"
   ]
  },
  {
   "cell_type": "code",
   "execution_count": 13,
   "metadata": {
    "collapsed": false
   },
   "outputs": [
    {
     "name": "stdout",
     "output_type": "stream",
     "text": [
      "Overwriting pe/problem11.txt\n"
     ]
    }
   ],
   "source": [
    "%%file pe/problem11.txt\n",
    "08 02 22 97 38 15 00 40 00 75 04 05 07 78 52 12 50 77 91 08\n",
    "49 49 99 40 17 81 18 57 60 87 17 40 98 43 69 48 04 56 62 00\n",
    "81 49 31 73 55 79 14 29 93 71 40 67 53 88 30 03 49 13 36 65\n",
    "52 70 95 23 04 60 11 42 69 24 68 56 01 32 56 71 37 02 36 91\n",
    "22 31 16 71 51 67 63 89 41 92 36 54 22 40 40 28 66 33 13 80\n",
    "24 47 32 60 99 03 45 02 44 75 33 53 78 36 84 20 35 17 12 50\n",
    "32 98 81 28 64 23 67 10 26 38 40 67 59 54 70 66 18 38 64 70\n",
    "67 26 20 68 02 62 12 20 95 63 94 39 63 08 40 91 66 49 94 21\n",
    "24 55 58 05 66 73 99 26 97 17 78 78 96 83 14 88 34 89 63 72\n",
    "21 36 23 09 75 00 76 44 20 45 35 14 00 61 33 97 34 31 33 95\n",
    "78 17 53 28 22 75 31 67 15 94 03 80 04 62 16 14 09 53 56 92\n",
    "16 39 05 42 96 35 31 47 55 58 88 24 00 17 54 24 36 29 85 57\n",
    "86 56 00 48 35 71 89 07 05 44 44 37 44 60 21 58 51 54 17 58\n",
    "19 80 81 68 05 94 47 69 28 73 92 13 86 52 17 77 04 89 55 40\n",
    "04 52 08 83 97 35 99 16 07 97 57 32 16 26 26 79 33 27 98 66\n",
    "88 36 68 87 57 62 20 72 03 46 33 67 46 55 12 32 63 93 53 69\n",
    "04 42 16 73 38 25 39 11 24 94 72 18 08 46 29 32 40 62 76 36\n",
    "20 69 36 41 72 30 23 88 34 62 99 69 82 67 59 85 74 04 36 16\n",
    "20 73 35 29 78 31 90 01 74 31 49 71 48 86 81 16 23 57 05 54\n",
    "01 70 54 71 83 51 54 69 16 92 33 48 61 43 52 01 89 19 67 48"
   ]
  },
  {
   "cell_type": "code",
   "execution_count": 14,
   "metadata": {
    "collapsed": false
   },
   "outputs": [
    {
     "name": "stdout",
     "output_type": "stream",
     "text": [
      "70600674\n",
      "The slowest run took 45.10 times longer than the fastest. This could mean that an intermediate result is being cached.\n",
      "10000000 loops, best of 3: 27.3 ns per loop\n"
     ]
    }
   ],
   "source": [
    "def problem11():\n",
    "    a = []\n",
    "    with open('pe/problem11.txt') as f:\n",
    "        for line in f:\n",
    "            a.append([int(x) for x in line.split()])\n",
    "    for i in range(20):\n",
    "        a[i] = [0, 0, 0] + a[i] + [0, 0, 0]\n",
    "    for j in range(3):\n",
    "        a.append([0] * 26)\n",
    "    m = 0\n",
    "    for i in range(20):\n",
    "        for j in range(3, 20):\n",
    "            r = c = dr = dl = a[i][j]\n",
    "            for k in range(1, 4):\n",
    "                r *= a[i][j+k]\n",
    "                c *= a[i+k][j]\n",
    "                dr *= a[i+k][j+k]\n",
    "                dl *= a[i+k][j-k]\n",
    "            m1 = max(r, c, dr, dl)\n",
    "            if m1 > m:\n",
    "                m = m1\n",
    "    return m\n",
    "\n",
    "print(problem11())\n",
    "%timeit problem11"
   ]
  },
  {
   "cell_type": "code",
   "execution_count": 15,
   "metadata": {
    "collapsed": false
   },
   "outputs": [
    {
     "name": "stdout",
     "output_type": "stream",
     "text": [
      "76576500\n",
      "10 loops, best of 3: 161 ms per loop\n"
     ]
    }
   ],
   "source": [
    "from numba import jit\n",
    "\n",
    "@jit\n",
    "def find_num_divisor(n):\n",
    "    s = 1\n",
    "    while n % 2 == 0:\n",
    "        n //= 2\n",
    "        s += 1\n",
    "    i = 3\n",
    "    while i <= n:\n",
    "        c = 0\n",
    "        while n % i == 0:\n",
    "            n //= i\n",
    "            c += 1\n",
    "        s *= (c + 1)\n",
    "        i += 2\n",
    "    return s\n",
    "\n",
    "@jit\n",
    "def problem12():\n",
    "    n = 500\n",
    "    s = 1\n",
    "    i = 1\n",
    "    while find_num_divisor(s) <= n:\n",
    "        i += 1\n",
    "        s += i\n",
    "    return s\n",
    "\n",
    "print(problem12())\n",
    "%timeit problem12()"
   ]
  },
  {
   "cell_type": "code",
   "execution_count": 16,
   "metadata": {
    "collapsed": false
   },
   "outputs": [
    {
     "name": "stdout",
     "output_type": "stream",
     "text": [
      "Overwriting pe/problem13.txt\n"
     ]
    }
   ],
   "source": [
    "%%file pe/problem13.txt\n",
    "37107287533902102798797998220837590246510135740250\n",
    "46376937677490009712648124896970078050417018260538\n",
    "74324986199524741059474233309513058123726617309629\n",
    "91942213363574161572522430563301811072406154908250\n",
    "23067588207539346171171980310421047513778063246676\n",
    "89261670696623633820136378418383684178734361726757\n",
    "28112879812849979408065481931592621691275889832738\n",
    "44274228917432520321923589422876796487670272189318\n",
    "47451445736001306439091167216856844588711603153276\n",
    "70386486105843025439939619828917593665686757934951\n",
    "62176457141856560629502157223196586755079324193331\n",
    "64906352462741904929101432445813822663347944758178\n",
    "92575867718337217661963751590579239728245598838407\n",
    "58203565325359399008402633568948830189458628227828\n",
    "80181199384826282014278194139940567587151170094390\n",
    "35398664372827112653829987240784473053190104293586\n",
    "86515506006295864861532075273371959191420517255829\n",
    "71693888707715466499115593487603532921714970056938\n",
    "54370070576826684624621495650076471787294438377604\n",
    "53282654108756828443191190634694037855217779295145\n",
    "36123272525000296071075082563815656710885258350721\n",
    "45876576172410976447339110607218265236877223636045\n",
    "17423706905851860660448207621209813287860733969412\n",
    "81142660418086830619328460811191061556940512689692\n",
    "51934325451728388641918047049293215058642563049483\n",
    "62467221648435076201727918039944693004732956340691\n",
    "15732444386908125794514089057706229429197107928209\n",
    "55037687525678773091862540744969844508330393682126\n",
    "18336384825330154686196124348767681297534375946515\n",
    "80386287592878490201521685554828717201219257766954\n",
    "78182833757993103614740356856449095527097864797581\n",
    "16726320100436897842553539920931837441497806860984\n",
    "48403098129077791799088218795327364475675590848030\n",
    "87086987551392711854517078544161852424320693150332\n",
    "59959406895756536782107074926966537676326235447210\n",
    "69793950679652694742597709739166693763042633987085\n",
    "41052684708299085211399427365734116182760315001271\n",
    "65378607361501080857009149939512557028198746004375\n",
    "35829035317434717326932123578154982629742552737307\n",
    "94953759765105305946966067683156574377167401875275\n",
    "88902802571733229619176668713819931811048770190271\n",
    "25267680276078003013678680992525463401061632866526\n",
    "36270218540497705585629946580636237993140746255962\n",
    "24074486908231174977792365466257246923322810917141\n",
    "91430288197103288597806669760892938638285025333403\n",
    "34413065578016127815921815005561868836468420090470\n",
    "23053081172816430487623791969842487255036638784583\n",
    "11487696932154902810424020138335124462181441773470\n",
    "63783299490636259666498587618221225225512486764533\n",
    "67720186971698544312419572409913959008952310058822\n",
    "95548255300263520781532296796249481641953868218774\n",
    "76085327132285723110424803456124867697064507995236\n",
    "37774242535411291684276865538926205024910326572967\n",
    "23701913275725675285653248258265463092207058596522\n",
    "29798860272258331913126375147341994889534765745501\n",
    "18495701454879288984856827726077713721403798879715\n",
    "38298203783031473527721580348144513491373226651381\n",
    "34829543829199918180278916522431027392251122869539\n",
    "40957953066405232632538044100059654939159879593635\n",
    "29746152185502371307642255121183693803580388584903\n",
    "41698116222072977186158236678424689157993532961922\n",
    "62467957194401269043877107275048102390895523597457\n",
    "23189706772547915061505504953922979530901129967519\n",
    "86188088225875314529584099251203829009407770775672\n",
    "11306739708304724483816533873502340845647058077308\n",
    "82959174767140363198008187129011875491310547126581\n",
    "97623331044818386269515456334926366572897563400500\n",
    "42846280183517070527831839425882145521227251250327\n",
    "55121603546981200581762165212827652751691296897789\n",
    "32238195734329339946437501907836945765883352399886\n",
    "75506164965184775180738168837861091527357929701337\n",
    "62177842752192623401942399639168044983993173312731\n",
    "32924185707147349566916674687634660915035914677504\n",
    "99518671430235219628894890102423325116913619626622\n",
    "73267460800591547471830798392868535206946944540724\n",
    "76841822524674417161514036427982273348055556214818\n",
    "97142617910342598647204516893989422179826088076852\n",
    "87783646182799346313767754307809363333018982642090\n",
    "10848802521674670883215120185883543223812876952786\n",
    "71329612474782464538636993009049310363619763878039\n",
    "62184073572399794223406235393808339651327408011116\n",
    "66627891981488087797941876876144230030984490851411\n",
    "60661826293682836764744779239180335110989069790714\n",
    "85786944089552990653640447425576083659976645795096\n",
    "66024396409905389607120198219976047599490197230297\n",
    "64913982680032973156037120041377903785566085089252\n",
    "16730939319872750275468906903707539413042652315011\n",
    "94809377245048795150954100921645863754710598436791\n",
    "78639167021187492431995700641917969777599028300699\n",
    "15368713711936614952811305876380278410754449733078\n",
    "40789923115535562561142322423255033685442488917353\n",
    "44889911501440648020369068063960672322193204149535\n",
    "41503128880339536053299340368006977710650566631954\n",
    "81234880673210146739058568557934581403627822703280\n",
    "82616570773948327592232845941706525094512325230608\n",
    "22918802058777319719839450180888072429661980811197\n",
    "77158542502016545090413245809786882778948721859617\n",
    "72107838435069186155435662884062257473692284509516\n",
    "20849603980134001723930671666823555245252804609722\n",
    "53503534226472524250874054075591789781264330331690"
   ]
  },
  {
   "cell_type": "code",
   "execution_count": 17,
   "metadata": {
    "collapsed": false
   },
   "outputs": [
    {
     "name": "stdout",
     "output_type": "stream",
     "text": [
      "5537376230\n",
      "1000 loops, best of 3: 262 µs per loop\n"
     ]
    }
   ],
   "source": [
    "def problem13():\n",
    "    a = []\n",
    "    with open('pe/problem13.txt') as f:\n",
    "        for line in f:\n",
    "            a.append(int(line.rstrip('\\n')))\n",
    "    return int(str(sum(a))[:10])\n",
    "\n",
    "print(problem13())\n",
    "%timeit problem13()"
   ]
  },
  {
   "cell_type": "code",
   "execution_count": 18,
   "metadata": {
    "collapsed": false
   },
   "outputs": [
    {
     "name": "stdout",
     "output_type": "stream",
     "text": [
      "837799\n",
      "10 loops, best of 3: 31.6 ms per loop\n"
     ]
    }
   ],
   "source": [
    "import numpy as np\n",
    "from numba import jit\n",
    "\n",
    "@jit\n",
    "def problem14():\n",
    "    n = 1000000\n",
    "    table = np.zeros(n)\n",
    "    table[1] = 1\n",
    "    for i in range(2, n):\n",
    "        t = i\n",
    "        c = 0\n",
    "        while t >= i:\n",
    "            c += 1\n",
    "            if t % 2 == 0:\n",
    "                t //= 2\n",
    "            else:\n",
    "                t = 3 * t + 1\n",
    "        table[i] = c + table[t]\n",
    "    m = 0\n",
    "    r = 0\n",
    "    for i in range(n):\n",
    "        if table[i] > m:\n",
    "            m = table[i]\n",
    "            r = i\n",
    "    return r\n",
    "\n",
    "print(problem14())\n",
    "%timeit problem14()"
   ]
  },
  {
   "cell_type": "code",
   "execution_count": 19,
   "metadata": {
    "collapsed": false
   },
   "outputs": [
    {
     "name": "stdout",
     "output_type": "stream",
     "text": [
      "137846528820\n",
      "The slowest run took 4.87 times longer than the fastest. This could mean that an intermediate result is being cached.\n",
      "100000 loops, best of 3: 2.11 µs per loop\n"
     ]
    }
   ],
   "source": [
    "from math import factorial\n",
    "\n",
    "def problem15():\n",
    "    m = n = 20\n",
    "    return factorial(m+n) // (factorial(m) * factorial(n))\n",
    "\n",
    "print(problem15())\n",
    "%timeit problem15()"
   ]
  },
  {
   "cell_type": "code",
   "execution_count": 20,
   "metadata": {
    "collapsed": false
   },
   "outputs": [
    {
     "name": "stdout",
     "output_type": "stream",
     "text": [
      "1366\n",
      "10000 loops, best of 3: 123 µs per loop\n"
     ]
    }
   ],
   "source": [
    "def problem16():\n",
    "    n = 1000\n",
    "    return sum([int(x) for x in str(2**n)])\n",
    "\n",
    "print(problem16())\n",
    "%timeit problem16()"
   ]
  },
  {
   "cell_type": "code",
   "execution_count": 21,
   "metadata": {
    "collapsed": false
   },
   "outputs": [
    {
     "name": "stdout",
     "output_type": "stream",
     "text": [
      "21124\n",
      "1000 loops, best of 3: 1.84 ms per loop\n"
     ]
    }
   ],
   "source": [
    "table = {0: '', 1: 'one', 2: 'two', 3: 'three', 4: 'four', 5: 'five',\n",
    "         6: 'six', 7: 'seven', 8: 'eight', 9: 'nine', 10: 'ten', 11: 'eleven',\n",
    "         12: 'twelve', 13: 'thirteen', 14: 'fourteen', 15: 'fifteen',\n",
    "         16: 'sixteen', 17: 'seventeen', 18: 'eighteen', 19: 'nineteen',\n",
    "         20: 'twenty', 30: 'thirty', 40: 'forty', 50: 'fifty', 60: 'sixty',\n",
    "         70: 'seventy', 80: 'eighty', 90: 'ninety', 100: 'hundred',\n",
    "         1000: 'thousand'}\n",
    "\n",
    "def word(n):\n",
    "    if n == 1000:\n",
    "        return table[1] + table[1000]\n",
    "    r = table[0]\n",
    "    if n >= 100:\n",
    "        r += table[n//100] + table[100] \n",
    "        if n % 100 == 0:\n",
    "            return r\n",
    "        else:\n",
    "            r += 'and'\n",
    "            n = n % 100\n",
    "    if n >= 20:\n",
    "        return r + table[(n//10)*10] + table[n%10]\n",
    "    return r + table[n]\n",
    "\n",
    "def problem17():\n",
    "    return sum([len(word(n)) for n in range(1, 1001)])\n",
    "\n",
    "print(problem17())\n",
    "%timeit problem17()"
   ]
  },
  {
   "cell_type": "code",
   "execution_count": 22,
   "metadata": {
    "collapsed": false
   },
   "outputs": [
    {
     "name": "stdout",
     "output_type": "stream",
     "text": [
      "Overwriting pe/problem18.txt\n"
     ]
    }
   ],
   "source": [
    "%%file pe/problem18.txt\n",
    "75\n",
    "95 64\n",
    "17 47 82\n",
    "18 35 87 10\n",
    "20 04 82 47 65\n",
    "19 01 23 75 03 34\n",
    "88 02 77 73 07 63 67\n",
    "99 65 04 28 06 16 70 92\n",
    "41 41 26 56 83 40 80 70 33\n",
    "41 48 72 33 47 32 37 16 94 29\n",
    "53 71 44 65 25 43 91 52 97 51 14\n",
    "70 11 33 28 77 73 17 78 39 68 17 57\n",
    "91 71 52 38 17 14 91 43 58 50 27 29 48\n",
    "63 66 04 68 89 53 67 30 73 16 69 87 40 31\n",
    "04 62 98 27 23 09 70 98 73 93 38 53 60 04 23"
   ]
  },
  {
   "cell_type": "code",
   "execution_count": 23,
   "metadata": {
    "collapsed": false
   },
   "outputs": [
    {
     "name": "stdout",
     "output_type": "stream",
     "text": [
      "1074\n",
      "The slowest run took 12.25 times longer than the fastest. This could mean that an intermediate result is being cached.\n",
      "1000 loops, best of 3: 271 µs per loop\n"
     ]
    }
   ],
   "source": [
    "def problem18():\n",
    "    a = []\n",
    "    with open('pe/problem18.txt') as f:\n",
    "        for line in f:\n",
    "            a.append([int(x) for x in line.split()])\n",
    "    n = len(a)\n",
    "    for i in range(n-2, -1, -1):\n",
    "        for j in range(i+1):\n",
    "            a[i][j] = a[i][j] + max(a[i+1][j], a[i+1][j+1])\n",
    "    return a[0][0]\n",
    "\n",
    "print(problem18())\n",
    "%timeit problem18()"
   ]
  },
  {
   "cell_type": "code",
   "execution_count": 24,
   "metadata": {
    "collapsed": false
   },
   "outputs": [
    {
     "name": "stdout",
     "output_type": "stream",
     "text": [
      "171\n",
      "1000 loops, best of 3: 571 µs per loop\n"
     ]
    }
   ],
   "source": [
    "from datetime import date\n",
    "\n",
    "def problem19():\n",
    "    c = 0\n",
    "    for y in range(1901, 2001):\n",
    "        for m in range(1, 13):\n",
    "            if date(y, m, 1).weekday() == 6:\n",
    "                c += 1\n",
    "    return c\n",
    "\n",
    "print(problem19())\n",
    "%timeit problem19()"
   ]
  },
  {
   "cell_type": "code",
   "execution_count": 25,
   "metadata": {
    "collapsed": false
   },
   "outputs": [
    {
     "name": "stdout",
     "output_type": "stream",
     "text": [
      "648\n",
      "10000 loops, best of 3: 55.2 µs per loop\n"
     ]
    }
   ],
   "source": [
    "from math import factorial\n",
    "\n",
    "def problem20():\n",
    "    n = 100\n",
    "    return sum([int(x) for x in str(factorial(n))])\n",
    "\n",
    "print(problem20())\n",
    "%timeit problem20()"
   ]
  },
  {
   "cell_type": "code",
   "execution_count": 26,
   "metadata": {
    "collapsed": false
   },
   "outputs": [
    {
     "name": "stdout",
     "output_type": "stream",
     "text": [
      "31626\n",
      "1 loop, best of 3: 189 ms per loop\n"
     ]
    }
   ],
   "source": [
    "def d(n):\n",
    "    if n == 1:\n",
    "        return 0\n",
    "    s = 1\n",
    "    squaren = int(n**0.5)\n",
    "    for i in range(2, squaren+1):\n",
    "        if n % i == 0:\n",
    "            s += (i + n // i)\n",
    "    if n == squaren ** 2:\n",
    "        s -= squaren\n",
    "    return s\n",
    "\n",
    "def problem21():\n",
    "    n = 10000\n",
    "    s = 0\n",
    "    for i in range(2, n):\n",
    "        t = d(i)\n",
    "        if t != i and d(t) == i:\n",
    "            s += i\n",
    "    return s\n",
    "\n",
    "print(problem21())\n",
    "%timeit problem21()"
   ]
  },
  {
   "cell_type": "code",
   "execution_count": 27,
   "metadata": {
    "collapsed": false
   },
   "outputs": [
    {
     "name": "stdout",
     "output_type": "stream",
     "text": [
      "Writing pe/problem22.txt\n"
     ]
    }
   ],
   "source": [
    "from urllib.request import urlopen\n",
    "from contextlib import closing\n",
    "\n",
    "with closing(urlopen('https://projecteuler.net/project/resources/p022_names.txt')) as u:\n",
    "    data = u.read()\n",
    "with open('pe/problem22.txt', 'wb') as f:\n",
    "    f.write(data)\n",
    "print('Writing pe/problem22.txt')"
   ]
  },
  {
   "cell_type": "code",
   "execution_count": 28,
   "metadata": {
    "collapsed": false
   },
   "outputs": [
    {
     "name": "stdout",
     "output_type": "stream",
     "text": [
      "871198282\n",
      "10 loops, best of 3: 19.5 ms per loop\n"
     ]
    }
   ],
   "source": [
    "def value(name):\n",
    "    return sum([ord(x) - ord('A') + 1 for x in name])\n",
    "\n",
    "def problem22():\n",
    "    with open('pe/problem22.txt') as f:\n",
    "        a = f.readline().strip('\"').split('\",\"')\n",
    "    a.sort()\n",
    "    s = 0\n",
    "    for i in range(len(a)):\n",
    "        s += ((i + 1) * value(a[i]))\n",
    "    return s\n",
    "\n",
    "print(problem22())\n",
    "%timeit problem22()"
   ]
  },
  {
   "cell_type": "code",
   "execution_count": 29,
   "metadata": {
    "collapsed": false
   },
   "outputs": [
    {
     "name": "stdout",
     "output_type": "stream",
     "text": [
      "4179871\n",
      "10 loops, best of 3: 63.9 ms per loop\n"
     ]
    }
   ],
   "source": [
    "import numpy as np\n",
    "from numba import jit\n",
    "\n",
    "@jit\n",
    "def is_abundant(n):\n",
    "    if n == 1:\n",
    "        return 0\n",
    "    s = 1\n",
    "    squaren = int(n**0.5)\n",
    "    for i in range(2, squaren+1):\n",
    "        if n % i == 0:\n",
    "            s += (i + n // i)\n",
    "    if n == squaren ** 2:\n",
    "        s -= squaren\n",
    "    if s > n:\n",
    "        return 1\n",
    "    return 0\n",
    "\n",
    "@jit\n",
    "def problem23():\n",
    "    n = 28123\n",
    "    a = []\n",
    "    for i in range(1, n):\n",
    "        if is_abundant(i):\n",
    "            a.append(i)\n",
    "    newa = np.empty(len(a), dtype=np.int32)\n",
    "    for i in range(len(a)):\n",
    "        newa[i] = a[i]\n",
    "    b = np.zeros(n+1, dtype=np.int8)\n",
    "    for i in range(newa.size):\n",
    "        for j in range(i, newa.size):\n",
    "            if newa[i] + newa[j] > n:\n",
    "                break\n",
    "            b[newa[i] + newa[j]] = 1\n",
    "    s = 0\n",
    "    for i in range(1, n+1):\n",
    "        if b[i] == 0:\n",
    "            s += i\n",
    "    return s\n",
    "\n",
    "print(problem23())\n",
    "%timeit problem23()"
   ]
  },
  {
   "cell_type": "code",
   "execution_count": 30,
   "metadata": {
    "collapsed": false
   },
   "outputs": [
    {
     "name": "stdout",
     "output_type": "stream",
     "text": [
      "2783915460\n",
      "10000 loops, best of 3: 25.8 µs per loop\n"
     ]
    }
   ],
   "source": [
    "from math import factorial\n",
    "\n",
    "def problem24():\n",
    "    n = 1000000\n",
    "    a = []\n",
    "    b = set(range(10))\n",
    "    for i in range(9, -1, -1):\n",
    "        c = sorted(b)\n",
    "        t = (n-1) // factorial(i)\n",
    "        a.append(c[t])\n",
    "        b.remove(c[t])\n",
    "        n -= (t * factorial(i))\n",
    "    return ''.join([str(x) for x in a])\n",
    "                \n",
    "print(problem24())\n",
    "%timeit problem24()"
   ]
  },
  {
   "cell_type": "code",
   "execution_count": 31,
   "metadata": {
    "collapsed": false
   },
   "outputs": [
    {
     "name": "stdout",
     "output_type": "stream",
     "text": [
      "4782\n",
      "100 loops, best of 3: 3.9 ms per loop\n"
     ]
    }
   ],
   "source": [
    "from math import log10\n",
    "\n",
    "def problem25():\n",
    "    n = 1000\n",
    "    a, b = 1, 1\n",
    "    c = 2\n",
    "    while int(log10(b)) + 1 < n:\n",
    "        a, b = b, a+b\n",
    "        c += 1\n",
    "    return c\n",
    "\n",
    "print(problem25())\n",
    "%timeit problem25()"
   ]
  },
  {
   "cell_type": "code",
   "execution_count": 32,
   "metadata": {
    "collapsed": false
   },
   "outputs": [
    {
     "name": "stdout",
     "output_type": "stream",
     "text": [
      "983\n",
      "10 loops, best of 3: 15.7 ms per loop\n"
     ]
    }
   ],
   "source": [
    "from numba import jit\n",
    "\n",
    "@jit\n",
    "def length_cycle(n):\n",
    "    a = [1]\n",
    "    i = 1\n",
    "    while True:\n",
    "        i = (i * 10) % n\n",
    "        if i in a:\n",
    "            return len(a) - a.index(i)\n",
    "        a.append(i)\n",
    "\n",
    "@jit\n",
    "def problem26():\n",
    "    n = 1000\n",
    "    l = 0\n",
    "    m = 1\n",
    "    for i in range(2, n):\n",
    "        t = length_cycle(i)\n",
    "        if t > l:\n",
    "            l = t\n",
    "            m = i\n",
    "    return m\n",
    "\n",
    "print(problem26())\n",
    "%timeit problem26()"
   ]
  },
  {
   "cell_type": "code",
   "execution_count": 33,
   "metadata": {
    "collapsed": false
   },
   "outputs": [
    {
     "name": "stdout",
     "output_type": "stream",
     "text": [
      "-59231\n",
      "10 loops, best of 3: 63.6 ms per loop\n"
     ]
    }
   ],
   "source": [
    "import numpy as np\n",
    "from numba import jit\n",
    "\n",
    "@jit\n",
    "def sieveEratosthenes(n):\n",
    "    s = np.ones(n+1)\n",
    "    s[0] = 0\n",
    "    s[1] = 0\n",
    "    for i in range(2, int(n**0.5)+1):\n",
    "        if s[i] == 1:\n",
    "            for j in range(2, (n//i)+1):\n",
    "                s[i*j] = 0\n",
    "    return s\n",
    "\n",
    "@jit\n",
    "def problem27():\n",
    "    n = 1000\n",
    "    sieve = sieveEratosthenes(2*(n-1)**2 + n-1)\n",
    "    result = 0\n",
    "    max_length = 0\n",
    "    min_a = -((n // 2) * 2 - 1)\n",
    "    max_a = (n // 2) * 2 + 1\n",
    "    for b in range(n):\n",
    "        if sieve[b] == 1:\n",
    "            for a in range(min_a, max_a, 2):\n",
    "                l = 0\n",
    "                p = b\n",
    "                while p >= 0 and sieve[p] == 1:\n",
    "                    l += 1\n",
    "                    p = l**2 + a*l + b\n",
    "                if l > max_length:\n",
    "                    max_length = l\n",
    "                    result = a * b\n",
    "    return result\n",
    "    \n",
    "print(problem27())\n",
    "%timeit problem27()"
   ]
  },
  {
   "cell_type": "code",
   "execution_count": 34,
   "metadata": {
    "collapsed": false
   },
   "outputs": [
    {
     "name": "stdout",
     "output_type": "stream",
     "text": [
      "669171001\n",
      "1000 loops, best of 3: 463 µs per loop\n"
     ]
    }
   ],
   "source": [
    "def problem28():\n",
    "    n = 1001\n",
    "    s = 1\n",
    "    for i in range(3, n+1, 2):\n",
    "        a1 = i**2\n",
    "        a2 = a1 - i + 1\n",
    "        a3 = a2 - i + 1\n",
    "        a4 = a3 - i + 1\n",
    "        s += (a1 + a2 + a3 + a4)\n",
    "    return s\n",
    "\n",
    "print(problem28())\n",
    "%timeit problem28()"
   ]
  },
  {
   "cell_type": "code",
   "execution_count": 35,
   "metadata": {
    "collapsed": false
   },
   "outputs": [
    {
     "name": "stdout",
     "output_type": "stream",
     "text": [
      "9183\n",
      "100 loops, best of 3: 11.3 ms per loop\n"
     ]
    }
   ],
   "source": [
    "def problem29():\n",
    "    n = 100\n",
    "    s = set()\n",
    "    for a in range(2, n+1):\n",
    "        for b in range(2, n+1):\n",
    "            s.add(a**b)\n",
    "    return len(s)\n",
    "\n",
    "print(problem29())\n",
    "%timeit problem29()"
   ]
  },
  {
   "cell_type": "code",
   "execution_count": 36,
   "metadata": {
    "collapsed": false
   },
   "outputs": [
    {
     "name": "stdout",
     "output_type": "stream",
     "text": [
      "443839\n",
      "10 loops, best of 3: 82.5 ms per loop\n"
     ]
    }
   ],
   "source": [
    "from itertools import combinations_with_replacement\n",
    "\n",
    "def problem30():\n",
    "    n = 5\n",
    "    s = 0\n",
    "    for i in range(2, n+2):\n",
    "        for com in combinations_with_replacement(range(10), i):\n",
    "            t = sum([x**n for x in com])\n",
    "            if sorted(com) == sorted([int(x) for x in str(t)]):\n",
    "                s += t\n",
    "    return s\n",
    "\n",
    "print(problem30())\n",
    "%timeit problem30()"
   ]
  },
  {
   "cell_type": "code",
   "execution_count": 37,
   "metadata": {
    "collapsed": false
   },
   "outputs": [
    {
     "name": "stdout",
     "output_type": "stream",
     "text": [
      "73682\n",
      "1 loop, best of 3: 138 ms per loop\n"
     ]
    }
   ],
   "source": [
    "def check(n, coins):\n",
    "    if n == 0 or coins[0] == 1: \n",
    "        return 1\n",
    "    c = 0\n",
    "    for i in range(len(coins)):\n",
    "        m = n - coins[i]\n",
    "        if m >= 0:\n",
    "            c += check(m, coins[i:])\n",
    "    return c\n",
    "\n",
    "def problem31():\n",
    "    n = 200\n",
    "    coins = [200, 100, 50, 20, 10, 5, 2, 1]\n",
    "    return check(n, coins)\n",
    "\n",
    "print(problem31())\n",
    "%timeit problem31()"
   ]
  },
  {
   "cell_type": "code",
   "execution_count": 38,
   "metadata": {
    "collapsed": false
   },
   "outputs": [
    {
     "name": "stdout",
     "output_type": "stream",
     "text": [
      "14804\n",
      "10 loops, best of 3: 60.4 ms per loop\n"
     ]
    }
   ],
   "source": [
    "def problem32():\n",
    "    s = set()\n",
    "    for i in range(10, 100):\n",
    "        for j in range(100, 1000 // i + 1):\n",
    "            p = i * j\n",
    "            if ''.join(sorted(str(i) + str(j) + str(p))) == '123456789':\n",
    "                s.add(p)\n",
    "    for i in range(1, 10):\n",
    "        for j in range(1000, 10000 // i + 1):\n",
    "            p = i * j\n",
    "            if ''.join(sorted(str(i) + str(j) + str(p))) == '123456789':\n",
    "                s.add(p)\n",
    "    return sum(s)\n",
    "\n",
    "print(problem32())\n",
    "%timeit problem32()"
   ]
  },
  {
   "cell_type": "code",
   "execution_count": 39,
   "metadata": {
    "collapsed": false
   },
   "outputs": [
    {
     "name": "stdout",
     "output_type": "stream",
     "text": [
      "100\n",
      "100 loops, best of 3: 5.37 ms per loop\n"
     ]
    }
   ],
   "source": [
    "def common_divisor(a, b):\n",
    "    while a != 0:\n",
    "        a, b = b%a, a\n",
    "    return b\n",
    "\n",
    "def problem33():\n",
    "    p, q = 1, 1\n",
    "    for i in range(10, 100):\n",
    "        i1 = int(str(i)[0])\n",
    "        i2 = int(str(i)[1])\n",
    "        if i % 10 == 0 or i1 == i2:\n",
    "            continue\n",
    "        for j in range(i+1, 100):\n",
    "            j1 = int(str(j)[0])\n",
    "            j2 = int(str(j)[1])\n",
    "            if j % 10 == 0 or j1 == j2:\n",
    "                continue\n",
    "            if ((i1 == j2 and i * j1 == j * i2) or\n",
    "                (i2 == j1 and i * j2 == j * i1)):\n",
    "                p *= i\n",
    "                q *= j\n",
    "    return q // common_divisor(p, q)\n",
    "\n",
    "print(problem33())\n",
    "%timeit problem33()"
   ]
  },
  {
   "cell_type": "code",
   "execution_count": 40,
   "metadata": {
    "collapsed": false
   },
   "outputs": [
    {
     "name": "stdout",
     "output_type": "stream",
     "text": [
      "40730\n",
      "10 loops, best of 3: 150 ms per loop\n"
     ]
    }
   ],
   "source": [
    "from math import factorial\n",
    "from itertools import combinations_with_replacement\n",
    "\n",
    "def problem34():\n",
    "    s = 0\n",
    "    max_digits = 7\n",
    "    for i in range(2, max_digits+1):\n",
    "        for com in combinations_with_replacement(range(10), i):\n",
    "            t = sum([factorial(x) for x in com])\n",
    "            if sorted(com) == sorted([int(x) for x in str(t)]):\n",
    "                s += t\n",
    "    return s\n",
    "\n",
    "print(problem34())\n",
    "%timeit problem34()"
   ]
  },
  {
   "cell_type": "code",
   "execution_count": 41,
   "metadata": {
    "collapsed": false
   },
   "outputs": [
    {
     "name": "stdout",
     "output_type": "stream",
     "text": [
      "55\n",
      "1 loop, best of 3: 222 ms per loop\n"
     ]
    }
   ],
   "source": [
    "from numba import jit\n",
    "\n",
    "@jit\n",
    "def sieveEratosthenes(n):\n",
    "    s = [1] * (n + 1)\n",
    "    s[0] = 0\n",
    "    s[1] = 0\n",
    "    for i in range(2, int(n**0.5)+1):\n",
    "        if s[i] == 1:\n",
    "            for j in range(2, (n//i)+1):\n",
    "                s[i*j] = 0\n",
    "    return s\n",
    "\n",
    "def problem35():\n",
    "    n = 1000000\n",
    "    test_list = ['0', '2', '4', '5', '6', '8']\n",
    "    sieve = sieveEratosthenes(n-1)\n",
    "    c = 4\n",
    "    for p in range(10, n):\n",
    "        if sieve[p] == 1:\n",
    "            str_p = str(p)\n",
    "            flag = 1\n",
    "            for x in test_list:\n",
    "                if x in str_p:\n",
    "                    flag = 0\n",
    "                    break\n",
    "            if flag == 0:\n",
    "                continue\n",
    "            for i in range(1, len(str_p)):\n",
    "                p1 = int(''.join(str_p[i:] + str_p[:i]))\n",
    "                if sieve[p1] == 0:\n",
    "                    flag = 0\n",
    "                    break\n",
    "            if flag == 1:\n",
    "                c += 1\n",
    "    return c\n",
    "\n",
    "print(problem35())\n",
    "%timeit problem35()"
   ]
  },
  {
   "cell_type": "code",
   "execution_count": 42,
   "metadata": {
    "collapsed": false
   },
   "outputs": [
    {
     "name": "stdout",
     "output_type": "stream",
     "text": [
      "872187\n",
      "10 loops, best of 3: 71.8 ms per loop\n"
     ]
    }
   ],
   "source": [
    "def problem36():\n",
    "    s = 0\n",
    "    for i in range(1, 100000):\n",
    "        str_i = str(i)\n",
    "        if str_i == str_i[::-1]:\n",
    "            str_bin_i = bin(i)[2:]\n",
    "            if str_bin_i == str_bin_i[::-1]:\n",
    "                s += i\n",
    "    for j in range(100, 1000):\n",
    "        i = int(str(j) + str(j)[::-1])\n",
    "        str_bin_i = bin(i)[2:]\n",
    "        if str_bin_i == str_bin_i[::-1]:\n",
    "                s += i\n",
    "    return s\n",
    "\n",
    "print(problem36())\n",
    "%timeit problem36()"
   ]
  },
  {
   "cell_type": "code",
   "execution_count": 43,
   "metadata": {
    "collapsed": false
   },
   "outputs": [
    {
     "name": "stdout",
     "output_type": "stream",
     "text": [
      "748317\n",
      "10 loops, best of 3: 36.5 ms per loop\n"
     ]
    }
   ],
   "source": [
    "def isPrime(n):\n",
    "    if n == 2:\n",
    "        return True\n",
    "    elif n < 2 or n % 2 == 0:\n",
    "        return False\n",
    "    k = int(n**0.5)\n",
    "    i = 3\n",
    "    while i <= k:\n",
    "        if n % i == 0:\n",
    "            return False\n",
    "        i += 2\n",
    "    return True\n",
    "\n",
    "def isLeftRightTruncatePrime(n):\n",
    "    if n < 10:\n",
    "        return False\n",
    "    k = n\n",
    "    while k > 0:\n",
    "        if not isPrime(k):\n",
    "            return False\n",
    "        k = k // 10\n",
    "    k = n\n",
    "    while k >= 10:\n",
    "        k = int(str(k)[1:])\n",
    "        if not isPrime(k):\n",
    "            return False\n",
    "    return True\n",
    "    \n",
    "def problem37():\n",
    "    s = 0\n",
    "    count = 0\n",
    "    for i in [23, 37, 53, 73, 373, 313, 3173]:\n",
    "        if isLeftRightTruncatePrime(i) == 1:\n",
    "            s += i\n",
    "            count += 1\n",
    "    first = [\"31\", \"7\", \"37\"]\n",
    "    second = [\"\"]\n",
    "    third = [\"7\", \"373\", \"13\"]\n",
    "    while count < 11:\n",
    "        for i in first:\n",
    "            for j in second:\n",
    "                for k in third:\n",
    "                    n = int(i+j+k)\n",
    "                    if isLeftRightTruncatePrime(n):\n",
    "                        s += n\n",
    "                        count += 1\n",
    "        term = [j+\"3\" for j in second] + [j+\"9\" for j in second]\n",
    "        second = term[:]\n",
    "    return s\n",
    "    \n",
    "print(problem37())\n",
    "%timeit problem37()"
   ]
  },
  {
   "cell_type": "code",
   "execution_count": 44,
   "metadata": {
    "collapsed": false
   },
   "outputs": [
    {
     "name": "stdout",
     "output_type": "stream",
     "text": [
      "932718654\n",
      "10 loops, best of 3: 31 ms per loop\n"
     ]
    }
   ],
   "source": [
    "def isPandigital(n):\n",
    "    return len(str(n)) == 9 and set(str(n)) == set(\"123456789\")\n",
    "\n",
    "def problem38():\n",
    "    l = []\n",
    "    for i in range(1, 10):\n",
    "        s = \"\"\n",
    "        for j in range(1, 10):\n",
    "            s += str(i*j)\n",
    "        if isPandigital(s):\n",
    "            l.append(int(s))\n",
    "    for i in range(10, 100):\n",
    "        s = \"\"\n",
    "        for j in range(1, 5):\n",
    "            s += str(i*j)\n",
    "        if isPandigital(s):\n",
    "            l.append(int(s))\n",
    "    for i in range(100, 1000):\n",
    "        s = \"\"\n",
    "        for j in range(1, 4):\n",
    "            s += str(i*j)\n",
    "        if isPandigital(s):\n",
    "            l.append(int(s))\n",
    "    for i in range(1000, 10000):\n",
    "        s = \"\"\n",
    "        for j in range(1, 3):\n",
    "            s += str(i*j)\n",
    "        if isPandigital(s):\n",
    "            l.append(int(s))\n",
    "    return max(l)\n",
    "\n",
    "print(problem38())\n",
    "%timeit problem38()"
   ]
  },
  {
   "cell_type": "code",
   "execution_count": 45,
   "metadata": {
    "collapsed": false
   },
   "outputs": [
    {
     "name": "stdout",
     "output_type": "stream",
     "text": [
      "840\n",
      "1 loop, best of 3: 489 ms per loop\n"
     ]
    }
   ],
   "source": [
    "def problem39():\n",
    "    d = dict()\n",
    "    for i in range(1, 500):\n",
    "        for j in range(1, 500):\n",
    "            k2 = i**2 + j**2\n",
    "            k = int(k2**0.5)\n",
    "            if k2 == k**2:\n",
    "                p = i + j + k\n",
    "                if p in d:\n",
    "                    d[i+j+k] += 1\n",
    "                else:\n",
    "                    d[i+j+k] = 0\n",
    "    return max(d, key=d.get)\n",
    "\n",
    "print(problem39())\n",
    "%timeit problem39()"
   ]
  },
  {
   "cell_type": "code",
   "execution_count": 46,
   "metadata": {
    "collapsed": false
   },
   "outputs": [
    {
     "name": "stdout",
     "output_type": "stream",
     "text": [
      "210\n",
      "10 loops, best of 3: 173 ms per loop\n"
     ]
    }
   ],
   "source": [
    "def findDigit(n):\n",
    "    i = 1\n",
    "    s = 0\n",
    "    while i <= n:\n",
    "        s += len(str(i))\n",
    "        if s >= n:\n",
    "            break\n",
    "        i += 1\n",
    "    return int(str(i)[-(s - n + 1)])\n",
    "\n",
    "def problem40():\n",
    "    s = 1\n",
    "    for i in range(0, 7):\n",
    "        s *= findDigit(10**i)\n",
    "    return s\n",
    "\n",
    "print(problem40())\n",
    "%timeit problem40()"
   ]
  },
  {
   "cell_type": "code",
   "execution_count": 47,
   "metadata": {
    "collapsed": false
   },
   "outputs": [
    {
     "name": "stdout",
     "output_type": "stream",
     "text": [
      "7652413\n",
      "1 loop, best of 3: 232 ms per loop\n"
     ]
    }
   ],
   "source": [
    "from itertools import permutations\n",
    "\n",
    "def isPrime(n):\n",
    "    if n == 2:\n",
    "        return True\n",
    "    elif n < 2 or n % 2 == 0:\n",
    "        return False\n",
    "    k = int(n**0.5)\n",
    "    i = 3\n",
    "    while i <= k:\n",
    "        if n % i == 0:\n",
    "            return False\n",
    "        i += 2\n",
    "    return True\n",
    "\n",
    "def problem41():\n",
    "    pandigital_prime = []\n",
    "    for i in [4, 7]:\n",
    "        s = \"\"\n",
    "        for j in range(1, i+1):\n",
    "            s += str(j)\n",
    "        for item in permutations(s, i):\n",
    "            n = int(''.join(item))\n",
    "            if isPrime(n):\n",
    "                pandigital_prime.append(n)\n",
    "    return max(pandigital_prime)\n",
    "\n",
    "print(problem41())\n",
    "%timeit problem41()"
   ]
  },
  {
   "cell_type": "code",
   "execution_count": 48,
   "metadata": {
    "collapsed": false
   },
   "outputs": [
    {
     "name": "stdout",
     "output_type": "stream",
     "text": [
      "Writing pe/problem42.txt\n"
     ]
    }
   ],
   "source": [
    "from urllib.request import urlopen\n",
    "from contextlib import closing\n",
    "\n",
    "with closing(urlopen('https://projecteuler.net/project/resources/p042_words.txt')) as u:\n",
    "    data = u.read()\n",
    "with open('pe/problem42.txt', 'wb') as f:\n",
    "    f.write(data)\n",
    "print('Writing pe/problem42.txt')"
   ]
  },
  {
   "cell_type": "code",
   "execution_count": 49,
   "metadata": {
    "collapsed": false
   },
   "outputs": [
    {
     "name": "stdout",
     "output_type": "stream",
     "text": [
      "162\n",
      "100 loops, best of 3: 7.27 ms per loop\n"
     ]
    }
   ],
   "source": [
    "def problem42():\n",
    "    with open('pe/problem42.txt') as f:\n",
    "        listWords = f.readline().strip('\"').split('\",\"')\n",
    "    maxN = int((max([len(x) for x in listWords]) * 26)**0.5)\n",
    "    listTriangle = [i*(i+1)//2 for i in range(1, maxN)]\n",
    "    c = 0\n",
    "    for word in listWords:\n",
    "        value = sum([ord(x) - ord('A') + 1 for x in word])\n",
    "        if value in listTriangle:\n",
    "            c += 1\n",
    "    return c\n",
    "\n",
    "print(problem42())\n",
    "%timeit problem42()"
   ]
  },
  {
   "cell_type": "code",
   "execution_count": 50,
   "metadata": {
    "collapsed": false
   },
   "outputs": [
    {
     "name": "stdout",
     "output_type": "stream",
     "text": [
      "16695334890\n",
      "10 loops, best of 3: 91 ms per loop\n"
     ]
    }
   ],
   "source": [
    "from itertools import permutations\n",
    "\n",
    "def problem43():\n",
    "    s = 0\n",
    "    for i in range(6, 999//17 + 1):\n",
    "        d8910 = list(str(i * 17))\n",
    "        if '5' not in d8910 and len(set(d8910)) == 3:\n",
    "            remain = list('012346789')\n",
    "            for x in d8910:\n",
    "                remain.remove(x)\n",
    "            for n in permutations(remain, 6):\n",
    "                if n[0] != '0':\n",
    "                    n = list(n)\n",
    "                    n.insert(5, '5')\n",
    "                    n.extend(d8910)\n",
    "                    primes = [2, 3, 5, 7, 11, 13, 17]\n",
    "                    flag = True\n",
    "                    for i in range(7):\n",
    "                        if int(''.join(n[i+1:i+4])) % primes[i] != 0:\n",
    "                            flag = False\n",
    "                            break\n",
    "                    if flag == True:\n",
    "                        s += int(''.join(n))\n",
    "    return s\n",
    "\n",
    "print(problem43())\n",
    "%timeit problem43()"
   ]
  },
  {
   "cell_type": "code",
   "execution_count": 51,
   "metadata": {
    "collapsed": false
   },
   "outputs": [
    {
     "name": "stdout",
     "output_type": "stream",
     "text": [
      "5482660\n",
      "10 loops, best of 3: 81.2 ms per loop\n"
     ]
    }
   ],
   "source": [
    "# not so right answer, solve the problem of minimizing the max of P_k and P_j\n",
    "from numba import jit\n",
    "\n",
    "@jit\n",
    "def isPentagonal(n):\n",
    "    return ((24*n+1)**0.5+1)/6 % 1 == 0\n",
    "\n",
    "@jit\n",
    "def problem44():\n",
    "    n = 2\n",
    "    listPentagonal = [1]\n",
    "    diff = []\n",
    "    while True:\n",
    "        listPentagonal.append(n*(3*n-1)/2)\n",
    "        diff.append(0)\n",
    "        inc = 3*n-2\n",
    "        for i in range(n-1):\n",
    "            diff[i] += inc\n",
    "            if isPentagonal(diff[i]) and isPentagonal(listPentagonal[i] + listPentagonal[n-1]):\n",
    "                return diff[i]\n",
    "        n += 1\n",
    "        \n",
    "print(problem44())\n",
    "%timeit problem44()"
   ]
  },
  {
   "cell_type": "code",
   "execution_count": 52,
   "metadata": {
    "collapsed": false
   },
   "outputs": [
    {
     "name": "stdout",
     "output_type": "stream",
     "text": [
      "1533776805\n",
      "10 loops, best of 3: 86.8 ms per loop\n"
     ]
    }
   ],
   "source": [
    "def isPentagonal(n):\n",
    "    return ((24*n+1)**0.5+1)/6 % 1 == 0\n",
    "\n",
    "def isHexagonal(n):\n",
    "    return ((8*n+1)**0.5+1)/4 % 1 == 0\n",
    "\n",
    "def problem45():\n",
    "    n = 286\n",
    "    while True:\n",
    "        t = n*(n+1)//2\n",
    "        if isHexagonal(t) and isPentagonal(t):\n",
    "            return t\n",
    "        n += 1\n",
    "        \n",
    "print(problem45())\n",
    "%timeit problem44()"
   ]
  },
  {
   "cell_type": "code",
   "execution_count": 53,
   "metadata": {
    "collapsed": false
   },
   "outputs": [
    {
     "name": "stdout",
     "output_type": "stream",
     "text": [
      "5777\n",
      "1 loop, best of 3: 410 ms per loop\n"
     ]
    }
   ],
   "source": [
    "def isPrime(n):\n",
    "    if n == 2:\n",
    "        return True\n",
    "    elif n < 2 or n % 2 == 0:\n",
    "        return False\n",
    "    k = int(n**0.5)\n",
    "    i = 3\n",
    "    while i <= k:\n",
    "        if n % i == 0:\n",
    "            return False\n",
    "        i += 2\n",
    "    return True\n",
    "\n",
    "def problem46():\n",
    "    n = 35\n",
    "    listOddPrime = [3, 5, 7, 11, 13, 17, 19, 23, 29, 31]\n",
    "    while True:\n",
    "        if isPrime(n):\n",
    "            listOddPrime.append(n)\n",
    "        else:\n",
    "            flag = False\n",
    "            for x in listOddPrime:\n",
    "                if ((n-x)/2)**0.5 % 1 == 0:\n",
    "                    flag = True\n",
    "            if flag == False:\n",
    "                return n\n",
    "        n += 2\n",
    "        \n",
    "print(problem46())\n",
    "%timeit problem46()"
   ]
  },
  {
   "cell_type": "code",
   "execution_count": 54,
   "metadata": {
    "collapsed": false
   },
   "outputs": [
    {
     "name": "stdout",
     "output_type": "stream",
     "text": [
      "134043\n",
      "10 loops, best of 3: 77.3 ms per loop\n"
     ]
    }
   ],
   "source": [
    "from numba import jit\n",
    "\n",
    "@jit\n",
    "def check(n):\n",
    "    s = 0\n",
    "    if n % 2 == 0:\n",
    "        s = 1\n",
    "        n = n // 2\n",
    "        while n % 2 == 0:\n",
    "            n = n // 2\n",
    "    i = 3\n",
    "    while i*i <= n and s<4:\n",
    "        if n % i == 0:\n",
    "            s += 1\n",
    "            n = n // i\n",
    "            while n % i == 0:\n",
    "                n = n // i\n",
    "        i += 2\n",
    "    if (n>1 and s==3) or (n==1 and s==4):\n",
    "        return True\n",
    "    return False\n",
    "\n",
    "@jit\n",
    "def problem47():\n",
    "    a,b,c,d = (False, False, False, False)\n",
    "    n = 1\n",
    "    while True:\n",
    "        a,b,c,d = b,c,d,check(n+3) \n",
    "        if a and b and c and d:\n",
    "            return n\n",
    "        n += 1\n",
    "\n",
    "print(problem47())\n",
    "%timeit problem47()"
   ]
  },
  {
   "cell_type": "code",
   "execution_count": 55,
   "metadata": {
    "collapsed": false
   },
   "outputs": [
    {
     "name": "stdout",
     "output_type": "stream",
     "text": [
      "9110846700\n",
      "100 loops, best of 3: 13.8 ms per loop\n"
     ]
    }
   ],
   "source": [
    "def problem48():\n",
    "    s = 0\n",
    "    for i in range(1, 1001):\n",
    "        s += (i**i)%(10**10)\n",
    "    return s % (10**10)\n",
    "\n",
    "print(problem48())\n",
    "%timeit problem48()"
   ]
  },
  {
   "cell_type": "code",
   "execution_count": 56,
   "metadata": {
    "collapsed": false
   },
   "outputs": [
    {
     "name": "stdout",
     "output_type": "stream",
     "text": [
      "2969\n",
      "10 loops, best of 3: 31.7 ms per loop\n"
     ]
    }
   ],
   "source": [
    "import numpy as np\n",
    "from itertools import permutations\n",
    "\n",
    "def sieveEratosthenes(n):\n",
    "    s = np.ones(n+1, dtype=np.int8)\n",
    "    s[0] = 0\n",
    "    s[1] = 0\n",
    "    for i in range(2, int(n**0.5)+1):\n",
    "        if s[i] == 1:\n",
    "            for j in range(2, (n//i)+1):\n",
    "                s[i*j] = 0\n",
    "    return s\n",
    "    \n",
    "def checkCondition(n, sieve):\n",
    "    listPermutation = [int(''.join(x)) for x in permutations(str(n))]\n",
    "    listPrime = sorted([x for x in listPermutation if sieve[x] == 1 and x != n])\n",
    "    for i in range(len(listPrime) - 1):\n",
    "        for j in range(i+1, len(listPrime)):\n",
    "            if 2*listPrime[i] == n + listPrime[j]:\n",
    "                return True\n",
    "    return False\n",
    "\n",
    "def problem49():\n",
    "    sieve = sieveEratosthenes(10000)\n",
    "    for n in range(1001,10000):\n",
    "        if sieve[n] == 1 and checkCondition(n, sieve):\n",
    "            if n != 1487:\n",
    "                return n\n",
    "\n",
    "print(problem49())\n",
    "%timeit problem49()"
   ]
  },
  {
   "cell_type": "code",
   "execution_count": 57,
   "metadata": {
    "collapsed": false
   },
   "outputs": [
    {
     "name": "stdout",
     "output_type": "stream",
     "text": [
      "997651\n",
      "100 loops, best of 3: 9.99 ms per loop\n"
     ]
    }
   ],
   "source": [
    "import numpy as np\n",
    "from numba import jit\n",
    "\n",
    "@jit\n",
    "def sieveEratosthenes(n):\n",
    "    s = np.ones(n+1, dtype=np.int8)\n",
    "    s[0] = 0\n",
    "    s[1] = 0\n",
    "    for i in range(2, int(n**0.5)+1):\n",
    "        if s[i] == 1:\n",
    "            for j in range(2, (n//i)+1):\n",
    "                s[i*j] = 0\n",
    "    return s\n",
    "\n",
    "@jit\n",
    "def problem50():\n",
    "    sieve = sieveEratosthenes(10**6)\n",
    "    lenPrime = 0\n",
    "    for i in range(len(sieve)):\n",
    "        if sieve[i] == 1:\n",
    "            lenPrime += 1\n",
    "    listPrime = np.zeros(lenPrime, dtype=np.int32)\n",
    "    j = 0\n",
    "    for x in range(len(sieve)):\n",
    "        if sieve[x] == 1:\n",
    "            listPrime[j] = x\n",
    "            j += 1\n",
    "    maxL = 21\n",
    "    r = 953\n",
    "    for i in range(len(listPrime) - 21):\n",
    "        s = listPrime[i]\n",
    "        for j in range(i+1, i+22):\n",
    "            s += listPrime[j]\n",
    "        c = 22\n",
    "        while s < 10**6 and (i+c < len(listPrime)):\n",
    "            if sieve[s] == 1 and c > maxL:\n",
    "                maxL = c\n",
    "                r = s\n",
    "            s += listPrime[i+c]\n",
    "            c += 1\n",
    "    return r            \n",
    "    \n",
    "print(problem50())\n",
    "%timeit problem50()"
   ]
  }
 ],
 "metadata": {
  "kernelspec": {
   "display_name": "Python 3",
   "language": "python",
   "name": "python3"
  },
  "language_info": {
   "codemirror_mode": {
    "name": "ipython",
    "version": 3
   },
   "file_extension": ".py",
   "mimetype": "text/x-python",
   "name": "python",
   "nbconvert_exporter": "python",
   "pygments_lexer": "ipython3",
   "version": "3.5.2"
  }
 },
 "nbformat": 4,
 "nbformat_minor": 0
}

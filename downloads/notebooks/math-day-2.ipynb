{
 "metadata": {
  "name": ""
 },
 "nbformat": 3,
 "nbformat_minor": 0,
 "worksheets": [
  {
   "cells": [
    {
     "cell_type": "markdown",
     "metadata": {},
     "source": [
      "*This morning, I fix some problems with the [previous](http://fehiepsi.github.io/blog/2013/09/05/math-day-1/) post. Everything now is ok for me. Today, I intend to present the proofs of two theorems. The first one is interesting to me due to its beauty solution and idea. The second one is special in the job that it makes me review much knowledge in ring theory.*"
     ]
    },
    {
     "cell_type": "markdown",
     "metadata": {},
     "source": [
      "### Theorem V.1.3.(iv). @Hungerford\n",
      "\n",
      "If $F$ is an extension field of a field $K$, $u\\in F$, and $X\\subset F$, then the [subfield](http://www.proofwiki.org/wiki/Definition:Generator_of_Field) $K(u)$ consists of all elements of the form $f(u)g(u)^{-1}$, where $f,g\\in K[x]$ and $g(u)\\neq 0$."
     ]
    },
    {
     "cell_type": "markdown",
     "metadata": {},
     "source": [
      "#### Proof.\n",
      "\n",
      "I just give the idea here. First, it is clear that the set $E = \\{ f(u)g(u)^{-1} | f,g\\in K[x]; u\\in X; g(u)\\neq 0\\}$ is a subset of $K(u)$. Second, we have to show that $K(u)$ is a subset of $E$. This can be obtained by noticing that $K\\cup \\{ u\\}\\subset E$, **$E$ is a field**, and $K(u)$ is the smallest subfield of $F$ that contains $K\\cup \\{u\\}$. $\\Box$"
     ]
    },
    {
     "cell_type": "markdown",
     "metadata": {},
     "source": [
      "### Theorem V.1.6.(i). @Hungerford\n",
      "\n",
      "If $F$ is and extension field of $K$ and $u\\in F$ is [algebraic](http://www.proofwiki.org/wiki/Definition:Algebraic/Field) over $K$, then $K(u) = K[u]$."
     ]
    },
    {
     "cell_type": "markdown",
     "metadata": {},
     "source": [
      "#### Proof.\n",
      "\n",
      "It is clear that we just have prove that $K(u) \\subset K[u]$, which can be obtained if we can show that $K[u]$ is really a **field**.\n",
      "\n",
      "Consider the map $\\phi : K[x] \\to K[u]$ givend by $g \\mapsto g(u)$. Thanks to the above theorem (with a little modification), we can show that this is a **nonzero** [ring epimorphism](http://www.proofwiki.org/wiki/Definition:Ring_Epimorphism). By the [First Isomorphism Theorem](http://www.proofwiki.org/wiki/First_Isomorphism_Theorem/Rings), we have\n",
      "$$ K[x] / \\ker \\phi \\cong K[u] .$$\n",
      "This suggests that we should prove that $K[x] / \\ker\\phi$ is a field. And this will be obtained by a series of theorems in ring theory:\n",
      "\n",
      "+ By [Polynomial Forms over Field form Principal Ideal Domain](http://www.proofwiki.org/wiki/Polynomial_Forms_over_Field_form_Principal_Ideal_Domain), we have: $\\ker\\phi = (f)$ for some $f\\in K[x]$ with $f(u) = 0$. Note that $f \\neq 0$ and $\\deg f \\geq 1$ due to $\\ker \\phi \\neq 0$ (by $u$ algebraic) and $\\phi \\neq 0$.\n",
      "+ Let $c$ is the leading coefficient of $f$, then $c$ is a [unit](http://www.proofwiki.org/wiki/Definition:Unit_of_Ring) in $K[x]$.\n",
      "+ By [Equivalence of Definitions of Associates](http://www.proofwiki.org/wiki/Equivalence_of_Definitions_of_Associates), we have: $(f) = (c^{-1} f)$, which means that we may assume that $f$ is [monic](http://www.proofwiki.org/wiki/Definition:Monic_Polynomial).\n",
      "+ By [Prime Ideal iff Quotient Ring is Integral Domain](http://www.proofwiki.org/wiki/Prime_Ideal_iff_Quotient_Ring_is_Integral_Domain), we have: ideal $(f)$ is prime, so $f$ is prime. This implies that $f$ is irreducible.\n",
      "+ By [Principal Ideal of Principal Ideal Domain is of Irreducible Element iff Maximal](http://www.proofwiki.org/wiki/Principal_Ideal_of_Irreducible_Element), we have: ideal $(f)$ is maximal.\n",
      "+ By [Maximal Ideal iff Quotient Ring is Field](http://www.proofwiki.org/wiki/Maximal_Ideal_iff_Quotient_Ring_is_Field), we get the conclusion. $\\Box$\n",
      "\n",
      "Note: similar proof [here](http://www.proofwiki.org/wiki/Structure_of_Simple_Algebraic_Field_Extension)."
     ]
    },
    {
     "cell_type": "markdown",
     "metadata": {},
     "source": [
      "*Thank God! This just takes me two hours to type, huge improvement compares to the previous day. Now I just have to go into notebook folder `cd notebooks` and type `ipython notebook` to start blogging :). I intend to spend two hours from 7pm to 9pm for this kind of thing. After this time, I will have a normal night as usual: reading, watching, talking, doing exercises or homework, ...*"
     ]
    }
   ],
   "metadata": {}
  }
 ]
}
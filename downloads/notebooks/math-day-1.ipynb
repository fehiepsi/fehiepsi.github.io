{
 "metadata": {
  "name": ""
 },
 "nbformat": 3,
 "nbformat_minor": 0,
 "worksheets": [
  {
   "cells": [
    {
     "cell_type": "markdown",
     "metadata": {},
     "source": [
      "*While trying to make this blog, I wanted to do many things with it. For example, I would type down the proof of every theorem I learned during the courses. I would give type down every solution for homework and exercises in the books. But now, I realize that it is an extremely time-consuming work, especially for the one who just starts to learn Mathematics by this method like me. So I decide to make this blog as a Math diary in which I share everything I learn in a day. Thank [Jake VanderPlas](http://jakevdp.github.io/blog/2013/05/07/migrating-from-octopress-to-pelican/) for sharing his knowledge about creating his blog. That blog is a kind of thing I need for a long time ago.*"
     ]
    },
    {
     "cell_type": "markdown",
     "metadata": {},
     "source": [
      "### Theorem V.1.2. @Hungerford\n",
      "\n",
      "Let $F$ be and [extension field](http://www.proofwiki.org/wiki/Definition:Field_Extension) of $E$ and $E$ and extension field of $K$. Then $[F:K] = [F:E][E:K]$. Furthermore $[F:K]$ is finite if and only if $[F:E]$ and $[E:K]$ are finite."
     ]
    },
    {
     "cell_type": "markdown",
     "metadata": {},
     "source": [
      "#### Proof.\n",
      "\n",
      "Let $U$ be a basis of the [vector space](http://www.proofwiki.org/wiki/Field_Extension_is_Vector_Space) $E$ over $K$ and $V$ be a basis of vector space $F$ over $E$. Consider the set\n",
      "\n",
      "$$ W = \\{ uv | u\\in U, v\\in V \\}. $$\n",
      "\n",
      "We will show that $W$ is a **basis of the vector space** $F$ over $K$:\n",
      "\n",
      "+ For any two **different** pairs $(u_1, v_1)$, $(u_2, v_2)$ in $U \\times V$, because of the linear independence of $V$ over $E$, it is clear that $u_1 v_1 \\neq u_2 v_2$ if $v_1 \\neq v_2$. In case $v_1 = v_2$, we must have $u_1 \\neq u_2$, which also implies $u_1 v_1 \\neq u_2 v_2$.\n",
      "+ $W$ **spans** $F$ over $K$:\n",
      "    + First, let $x \\in F$, we have $x = \\sum\\limits_{i=1}^n a_i u_i$ for some $a_i \\in E$, $u_i \\in U$, $n\\in \\mathbb{N}$.\n",
      "    + For each $i$, we have $a_i = \\sum\\limits_{j=1}^{m_i} b_i^j v_i^j$ for some $b_i^j \\in K$, $v_i^j \\in V$, $m_i\\in\\mathbb{N}$.\n",
      "    + So we can get the conclusion by writing $x$ as a finite sum:\n",
      "    $$ x=\\sum\\limits_{i=1}^n \\sum\\limits_{j=1}^{m_j} b_i^j v_i^j u_i. $$\n",
      "+ $W$ is a **linearly independent** subset of $F$ over $K$:\n",
      "    + First, suppose that we have $\\sum\\limits_{i=1}^n a_i u_i v_i = 0$, for some $a_i \\in K$, $u_i\\in U$, $v_i\\in V$, $n\\in \\mathbb{N}^*$.\n",
      "    + Due to the linear independence of $V$ over $E$, we must have $a_i u_i = 0$ for all $i$.\n",
      "    + Now, due to the linear independence of $U$ over $K$, we have $a_i = 0$ for all $i$.\n",
      "    \n",
      "The conclusion follows [Cardinality of Cartesian Product](http://www.proofwiki.org/wiki/Cardinality_of_Cartesian_Product). $\\Box$"
     ]
    }
   ],
   "metadata": {}
  }
 ]
}
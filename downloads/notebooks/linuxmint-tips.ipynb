{
 "metadata": {
  "name": ""
 },
 "nbformat": 3,
 "nbformat_minor": 0,
 "worksheets": [
  {
   "cells": [
    {
     "cell_type": "markdown",
     "metadata": {},
     "source": [
      "*This is my setup for a working [Linux Mint](http://linuxmint.com/) in my laptop.*"
     ]
    },
    {
     "cell_type": "markdown",
     "metadata": {},
     "source": [
      "## wicd\n",
      "\n",
      "Stop network manager:\n",
      "\n",
      "    sudo stop network-manager\n",
      "    \n",
      "Create an override file for the upstart job:\n",
      "\n",
      "    sudo echo \"manual\" | sudo tee /etc/init/network-manager.override\n",
      "    \n",
      "Disable Network in Startup Application Preferences"
     ]
    },
    {
     "cell_type": "markdown",
     "metadata": {},
     "source": [
      "## speed up\n",
      "Edit:\n",
      "\n",
      "    sudo pluma /etc/sysctl.conf\n",
      "> vm.swappiness=<strong>10</strong>\n",
      "\n",
      "Edit:\n",
      "\n",
      "    sudo pluma /etc/initramfs-tools/conf.d/resume\n",
      "> **\\#RESUME**=UUID=\n",
      "\n",
      "Edit:\n",
      "\n",
      "    sudo pluma /etc/default/grub\n",
      "> GRUB_TIMEOUT=<strong>0</strong>  \n",
      "> GRUB_FORCE_HIDDEN_MENU=<strong>\"true\"</strong> \n",
      "> **export GRUB_FORCE_HIDDEN_MENU**\n",
      "    \n",
      "Add:\n",
      "\n",
      "    sudo pluma /etc/grub.d/30_os-prober"
     ]
    },
    {
     "cell_type": "code",
     "collapsed": false,
     "input": [
      "\"if [ \"x${found_other_os}\" = \"x\" ] || [ \"x${GRUB_FORCE_HIDDEN_MENU}\" = \"xtrue\" ] ; then\n",
      "\n",
      "  cat <<EOF\n",
      "  if [ \"x\\${timeout}\" != \"x-1\" ]; then\n",
      "    if keystatus; then\n",
      "      if keystatus --shift; then\n",
      "        set timeout=-1\n",
      "      else\n",
      "        set timeout=0\n",
      "      fi\n",
      "    else\n",
      "      if sleep$verbose --interruptible 3 ; then\n",
      "        set timeout=0\n",
      "      fi\n",
      "    fi\n",
      "  fi\n",
      "  EOF\""
     ],
     "language": "python",
     "metadata": {},
     "outputs": []
    },
    {
     "cell_type": "markdown",
     "metadata": {},
     "source": [
      "    sudo update-grub\n",
      "    \n",
      "Move `/tmp` to RAM:\n",
      "\n",
      "    sudo pluma /etc/fstab\n",
      "> tmpfs /tmp tmpfs defaults,noexec,nosuid 0 0\n",
      "\n",
      "Disable some startup applications"
     ]
    },
    {
     "cell_type": "markdown",
     "metadata": {},
     "source": [
      "## useful packages\n",
      "\n",
      "skype-bin, ttf-mscorefonts-installer, compizconfig-settings-manager, zram-config, preload, ibus-unikey, texmaker, texlive-lang-vietnamese, calibre"
     ]
    },
    {
     "cell_type": "markdown",
     "metadata": {},
     "source": [
      "## dockbarx, variety\n",
      "\n",
      "    sudo add-apt-repository ppa:dockbar-main/ppa\n",
      "    sudo add-apt-repository ppa:peterlevi/ppa\n",
      "    sudo apt-get update\n",
      "    sudo apt-get install dockbarx-mate variety"
     ]
    },
    {
     "cell_type": "markdown",
     "metadata": {},
     "source": [
      "## thunderbird\n",
      "\n",
      "edit -> preferences -> advanced -> config editor -> network.protocol-handler.warn-external.http;true\n",
      "\n",
      "edit -> preferences -> advanced -> config editor -> network.protocol-handler.warn-external.https;true\n",
      "\n",
      "edit -> account settings -> composition -> start my reply above the quote\n",
      "\n",
      "add-ons FireTray\n",
      "\n",
      "Add Thunderbird to startup"
     ]
    },
    {
     "cell_type": "markdown",
     "metadata": {},
     "source": [
      "## compiz\n",
      "\n",
      "Open mateconf-editor\n",
      "\n",
      "Change **/desktop/mate/session/required_components/windowmanager** to **compiz**\n",
      "\n",
      "Desktop Cube->Skydom->/home/fehiepsi/Pictures/Skydome/Happy.jpg, Rotate Cube, Animations->Minimize->Magic Lamp, Ring Switcher, Place Windows, Move Windows, Resize Window, Wobbly Windows, Window Decoration"
     ]
    },
    {
     "cell_type": "markdown",
     "metadata": {},
     "source": [
      "## set fully transparent panel\n",
      "\n",
      "Edit:\n",
      "\n",
      "    sudo cp -R /usr/share/themes/Mint-X ~/.themes/\n",
      "    sudo pluma ~/.themes/Mint-X/gtk-2.0/Apps/panel.rc\n",
      "> <strong>\\#</strong>\"Panel/panelbg.png\"\n",
      "\n",
      "Go to Menu > Applications > Preferences > Appearance, switch to the other theme and then back to the Mint-X theme."
     ]
    },
    {
     "cell_type": "markdown",
     "metadata": {},
     "source": [
      "## chrome\n",
      "\n",
      "Set zoom 110%"
     ]
    }
   ],
   "metadata": {}
  }
 ]
}